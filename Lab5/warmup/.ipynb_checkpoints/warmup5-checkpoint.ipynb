{
 "cells": [
  {
   "cell_type": "markdown",
   "metadata": {},
   "source": [
    "# Warmup 5\n",
    "\n",
    "Notebook to solve the warmup activity 5:\n",
    "\n",
    "Run this online  \n",
    "[![Binder](https://mybinder.org/badge_logo.svg)](https://mybinder.org/v2/gh/alexzucca90/PHYS132/master?filepath=%2FLab5%2Fwarmup%2Fwarmup5.ipynb)"
   ]
  },
  {
   "cell_type": "code",
   "execution_count": 50,
   "metadata": {},
   "outputs": [],
   "source": [
    "# as usual import the librraries\n",
    "import numpy as np\n",
    "import matplotlib.pyplot as plt\n",
    "import pylab as pil"
   ]
  },
  {
   "cell_type": "markdown",
   "metadata": {},
   "source": [
    "## Question 1\n",
    "I help you with this question: the next one is mainly on you."
   ]
  },
  {
   "cell_type": "code",
   "execution_count": 56,
   "metadata": {},
   "outputs": [],
   "source": [
    "# define two lists containing the values of pi and pf\n",
    "pi = [1.49]\n",
    "pf = [1.56]"
   ]
  },
  {
   "cell_type": "code",
   "execution_count": 57,
   "metadata": {},
   "outputs": [],
   "source": [
    "# define the two uncertainities\n",
    "dpi = 0.03\n",
    "dpf = 0.06"
   ]
  },
  {
   "cell_type": "code",
   "execution_count": 58,
   "metadata": {},
   "outputs": [],
   "source": [
    "# Define two lists containing a x-coordinate for the measurements\n",
    "xi = [1]\n",
    "xf = [1.1]"
   ]
  },
  {
   "cell_type": "code",
   "execution_count": 59,
   "metadata": {},
   "outputs": [
    {
     "data": {
      "image/png": "[encoded data removed]",
      "text/plain": [
       "<Figure size 432x288 with 1 Axes>"
      ]
     },
     "metadata": {},
     "output_type": "display_data"
    }
   ],
   "source": [
    "plt.scatter(x=xi, y=pi, color = 'C0')\n",
    "plt.scatter(x=xf, y=pf, color = 'C1')\n",
    "plt.errorbar(x=xi, y=pi, yerr=dpi, barsabove=True, capsize=5, color = 'C0', linestyle = '')\n",
    "plt.errorbar(x=xf, y=pf, yerr=dpf, barsabove=True, capsize=5, color = 'C1', linestyle = '')\n",
    "plt.xlim(0,2)\n",
    "plt.xlabel('measurement')\n",
    "plt.ylabel(r'$p$ [kg/m/s]')\n",
    "plt.show()"
   ]
  },
  {
   "cell_type": "markdown",
   "metadata": {},
   "source": [
    "## Question 2: \n",
    "\n",
    "Fill with the other measurements and plot all the values"
   ]
  },
  {
   "cell_type": "code",
   "execution_count": 60,
   "metadata": {},
   "outputs": [],
   "source": [
    "# complete with the other data\n",
    "pi = np.array([1.49, 3.21])\n",
    "pf = np.array([1.56, 3.12])"
   ]
  },
  {
   "cell_type": "code",
   "execution_count": 61,
   "metadata": {},
   "outputs": [],
   "source": [
    "# and add the x coordinates: they are spaced by 1\n",
    "xi = [1,2]"
   ]
  },
  {
   "cell_type": "code",
   "execution_count": 62,
   "metadata": {},
   "outputs": [],
   "source": [
    "#compute the delta p: you can subtract arrays elements by elements\n",
    "dp = pf - pi"
   ]
  },
  {
   "cell_type": "markdown",
   "metadata": {},
   "source": [
    "visualize the $\\Delta pi$ array here"
   ]
  },
  {
   "cell_type": "code",
   "execution_count": null,
   "metadata": {},
   "outputs": [],
   "source": [
    "# complete here\n"
   ]
  },
  {
   "cell_type": "markdown",
   "metadata": {},
   "source": [
    "What's the uncertainty of $\\Delta p$?"
   ]
  },
  {
   "cell_type": "code",
   "execution_count": null,
   "metadata": {},
   "outputs": [],
   "source": [
    "# complete here\n",
    "ddp = "
   ]
  },
  {
   "cell_type": "code",
   "execution_count": 63,
   "metadata": {},
   "outputs": [
    {
     "data": {
      "image/png": "[encoded data removed]",
      "text/plain": [
       "<Figure size 432x288 with 1 Axes>"
      ]
     },
     "metadata": {},
     "output_type": "display_data"
    }
   ],
   "source": [
    "# adjust the xlim when you are adding the data above\n",
    "plt.scatter(x=xi, y=dp, color = 'C0')\n",
    "plt.errorbar(x=xi, y=dp, yerr=ddp, barsabove=True, capsize=5, color = 'C0', linestyle = '' )\n",
    "plt.xlim(0,3)\n",
    "plt.xlabel('measurement')\n",
    "plt.ylabel(r'$\\Delta p$ [kg/m/s]')\n",
    "plt.axhline(0, color = 'black', linestyle = '--')\n",
    "plt.show()"
   ]
  }
 ],
 "metadata": {
  "kernelspec": {
   "display_name": "Python 3",
   "language": "python",
   "name": "python3"
  },
  "language_info": {
   "codemirror_mode": {
    "name": "ipython",
    "version": 3
   },
   "file_extension": ".py",
   "mimetype": "text/x-python",
   "name": "python",
   "nbconvert_exporter": "python",
   "pygments_lexer": "ipython3",
   "version": "3.6.8"
  }
 },
 "nbformat": 4,
 "nbformat_minor": 2
}
