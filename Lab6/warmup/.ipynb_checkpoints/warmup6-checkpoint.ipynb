{
 "cells": [
  {
   "cell_type": "markdown",
   "metadata": {},
   "source": [
    "# Warmup 6 \n",
    "# Uncertainties and sum in quadrature\n",
    "\n",
    "This is a ```python notebook``` to help solving the warmup activity 6.\n",
    "\n",
    "You can run this notebook online at:"
   ]
  },
  {
   "cell_type": "code",
   "execution_count": 1,
   "metadata": {},
   "outputs": [],
   "source": [
    "import numpy as np\n",
    "import matplotlib.pyplot as plt"
   ]
  },
  {
   "cell_type": "markdown",
   "metadata": {},
   "source": [
    "## Case 1: Sum and subtraction of variables\n",
    "\n",
    "Adding in quadrature. Here we start learning the concept of functions in ```python```. Let's say we want to calculate the uncertainty of a the quantity $l+w$. \n",
    "\n",
    "We have seen two methods for the uncertainty, half of the maximum range and sum in quadrature.\n",
    "\n",
    "Let's define a function that givem $l, \\Delta l, w, \\Delta w$ will return the half-range uncertainity: it is easy to see that\n",
    "$$\n",
    "\\Delta (w+l) = \\frac{1}{2} \\left[ (w+\\Delta w + l + \\Delta l) - (w-\\Delta w + l - \\Delta l)\\right] = \\Delta l + \\Delta w\n",
    "$$"
   ]
  },
  {
   "cell_type": "code",
   "execution_count": 3,
   "metadata": {},
   "outputs": [],
   "source": [
    "def HalfRange_Sum(delta_w, delta_l):\n",
    "    return delta_w + delta_l"
   ]
  },
  {
   "cell_type": "markdown",
   "metadata": {},
   "source": [
    "The code above defines a function. The concept of a function is the same as you learned in calculus. You can see it as a black box, that given one -or more- arguments, returns another number, for example, $f(x)$ or $g(x, y)$ and so on.\n",
    "\n",
    "The first line above tells you the following:\n",
    "```def``` is the statement that \"defines\" the function. ```HalfRange_Sum``` is the name of the function (it is the $f$, or $g$). The parenthesis with the two arguments tells you what are the independent variables. It is equivalent to $(x,y)$. \n",
    "\n",
    "Finally the result is returned after the statement ```return```. Below we show the general structure of a function.\n",
    "\n",
    "```\n",
    "def NameOfFucntion(arg1, arg2, ...):\n",
    "    #instructions here\n",
    "    # you can define extra variables here and use them to calculate the resul\n",
    "    internal_variable_1 = ....\n",
    "    \n",
    "    # compute result\n",
    "    result = ...\n",
    "    return result\n",
    "```\n",
    "\n",
    "To use the function use the following:\n",
    "```\n",
    "NameOfFunction(1.0, 2.0, ...)\n",
    "```\n",
    "and execute the cell. You can also store the variables in the memory, for example:\n",
    "```\n",
    "var1 = 1.0\n",
    "var2 = 2.0\n",
    "...\n",
    "\n",
    "res = NameOfFunction(var1, var2, ...)\n",
    "print(res)\n",
    "```\n",
    "\n",
    "Now let's define the function that returns the uncertainy given by the sum in quadrature:"
   ]
  },
  {
   "cell_type": "code",
   "execution_count": 4,
   "metadata": {},
   "outputs": [],
   "source": [
    "def Quadrature_Sum(delta_w, delta_l):\n",
    "    return np.sqrt(np.pow(delta_w,2)+np.pow(delta_l,2))"
   ]
  },
  {
   "cell_type": "markdown",
   "metadata": {},
   "source": [
    "Now below, define the variables $l, w, \\Delta l, \\Delta w$ according to the ones given in Case 1 of the warmup activity pdf and use the functions above to calculate the uncertainies. "
   ]
  },
  {
   "cell_type": "code",
   "execution_count": 5,
   "metadata": {},
   "outputs": [],
   "source": [
    "# define the variables here\n",
    "\n"
   ]
  },
  {
   "cell_type": "code",
   "execution_count": 6,
   "metadata": {},
   "outputs": [],
   "source": [
    "# calculate the 2 types of uncertainties here\n",
    "\n"
   ]
  },
  {
   "cell_type": "markdown",
   "metadata": {},
   "source": [
    "## Case 2: Multiplication and Division\n",
    "\n",
    "Here we want to define the functions for the uncertaity of the multiplication of two variables\n",
    "The half-of-max-range uncertainty is given by\n",
    "$$\n",
    "\\Delta (wl) = \\frac{1}{2} \\left[ (l+\\Delta l)(w + \\Delta w) -  (l-\\Delta l)(w - \\Delta w)\\right]\n",
    "$$\n",
    "The sum in quadrature is given by\n",
    "$$\n",
    "\\frac{\\Delta (w l)}{w l } = \\sqrt{\\left( \\frac{\\Delta w}{w} \\right)^2 + \\left( \\frac{\\Delta l}{l} \\right)^2 }\n",
    "$$"
   ]
  },
  {
   "cell_type": "code",
   "execution_count": 7,
   "metadata": {},
   "outputs": [],
   "source": [
    "def HalfRange_Product(l, delta_l, w, delta_w):\n",
    "    upper  = (l+delta_l)*(w + delta_w)\n",
    "    lower = (l-delta_l)*(w-delta_w)\n",
    "    return 0.5*(upper - lower)"
   ]
  },
  {
   "cell_type": "code",
   "execution_count": 8,
   "metadata": {},
   "outputs": [],
   "source": [
    "def Quadrature_Product(l, delta_l, w, delta_w):\n",
    "    rel_l = delta_l/l\n",
    "    rel_w = delta_w/w\n",
    "    return np.sqrt(np.pow(rel_l,2)+np.pow(rel_w,2))*(w*l)"
   ]
  },
  {
   "cell_type": "markdown",
   "metadata": {},
   "source": [
    "same here: define the variables and calculate the uncertainty on the product $wl$ using the two functions above"
   ]
  },
  {
   "cell_type": "code",
   "execution_count": 9,
   "metadata": {},
   "outputs": [],
   "source": [
    "# define the variables here"
   ]
  },
  {
   "cell_type": "code",
   "execution_count": 10,
   "metadata": {},
   "outputs": [],
   "source": [
    "# calculate the uncertainities here"
   ]
  },
  {
   "cell_type": "markdown",
   "metadata": {},
   "source": [
    "## Cases 3 and 4: Multiplying by a constant, and powers\n",
    "\n",
    "Now you are probably are familiar with using functions in ```python```. In the paper, you will write your reasoning about the uncertainty of the multiplication by a constant and the powers of a variable. As an example you can write your functions here and do some simple calculation."
   ]
  },
  {
   "cell_type": "code",
   "execution_count": null,
   "metadata": {},
   "outputs": [],
   "source": []
  },
  {
   "cell_type": "code",
   "execution_count": null,
   "metadata": {},
   "outputs": [],
   "source": []
  }
 ],
 "metadata": {
  "kernelspec": {
   "display_name": "Python 3",
   "language": "python",
   "name": "python3"
  },
  "language_info": {
   "codemirror_mode": {
    "name": "ipython",
    "version": 3
   },
   "file_extension": ".py",
   "mimetype": "text/x-python",
   "name": "python",
   "nbconvert_exporter": "python",
   "pygments_lexer": "ipython3",
   "version": "3.6.8"
  }
 },
 "nbformat": 4,
 "nbformat_minor": 2
}
