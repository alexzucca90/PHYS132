{
 "cells": [
  {
   "cell_type": "markdown",
   "metadata": {},
   "source": [
    "# Warmup Lab 4\n",
    "\n",
    "[![Binder](https://mybinder.org/badge_logo.svg)](https://mybinder.org/v2/gh/alexzucca90/PHYS132/master?filepath=%2FLab4%2Fwarmup%2Fwarmup4.ipynb)"
   ]
  },
  {
   "cell_type": "code",
   "execution_count": 1,
   "metadata": {},
   "outputs": [],
   "source": [
    "# first import the libraries\n",
    "import pandas as pd\n",
    "import numpy as np\n",
    "import matplotlib.pyplot as plt"
   ]
  },
  {
   "cell_type": "markdown",
   "metadata": {},
   "source": [
    "## Question 1"
   ]
  },
  {
   "cell_type": "code",
   "execution_count": 2,
   "metadata": {},
   "outputs": [
    {
     "data": {
      "text/html": [
       "<div>\n",
       "<style>\n",
       "    .dataframe thead tr:only-child th {\n",
       "        text-align: right;\n",
       "    }\n",
       "\n",
       "    .dataframe thead th {\n",
       "        text-align: left;\n",
       "    }\n",
       "\n",
       "    .dataframe tbody tr th {\n",
       "        vertical-align: top;\n",
       "    }\n",
       "</style>\n",
       "<table border=\"1\" class=\"dataframe\">\n",
       "  <thead>\n",
       "    <tr style=\"text-align: right;\">\n",
       "      <th></th>\n",
       "      <th>reading</th>\n",
       "      <th>d (mm)</th>\n",
       "    </tr>\n",
       "  </thead>\n",
       "  <tbody>\n",
       "    <tr>\n",
       "      <th>0</th>\n",
       "      <td>1</td>\n",
       "      <td>650.4</td>\n",
       "    </tr>\n",
       "    <tr>\n",
       "      <th>1</th>\n",
       "      <td>2</td>\n",
       "      <td>660.6</td>\n",
       "    </tr>\n",
       "    <tr>\n",
       "      <th>2</th>\n",
       "      <td>3</td>\n",
       "      <td>659.1</td>\n",
       "    </tr>\n",
       "    <tr>\n",
       "      <th>3</th>\n",
       "      <td>4</td>\n",
       "      <td>669.6</td>\n",
       "    </tr>\n",
       "    <tr>\n",
       "      <th>4</th>\n",
       "      <td>5</td>\n",
       "      <td>655.6</td>\n",
       "    </tr>\n",
       "  </tbody>\n",
       "</table>\n",
       "</div>"
      ],
      "text/plain": [
       "   reading  d (mm)\n",
       "0        1   650.4\n",
       "1        2   660.6\n",
       "2        3   659.1\n",
       "3        4   669.6\n",
       "4        5   655.6"
      ]
     },
     "execution_count": 2,
     "metadata": {},
     "output_type": "execute_result"
    }
   ],
   "source": [
    "# import the data\n",
    "dat = pd.read_csv('./data/data.csv')\n",
    "dat.head()"
   ]
  },
  {
   "cell_type": "markdown",
   "metadata": {},
   "source": [
    "## Visualize the data"
   ]
  },
  {
   "cell_type": "code",
   "execution_count": 7,
   "metadata": {},
   "outputs": [
    {
     "data": {
      "image/png": "[encoded data removed]",
      "text/plain": [
       "<Figure size 432x288 with 1 Axes>"
      ]
     },
     "metadata": {},
     "output_type": "display_data"
    }
   ],
   "source": [
    "dat.plot(x=dat['reading'], y='d (mm)')\n",
    "plt.show()"
   ]
  },
  {
   "cell_type": "markdown",
   "metadata": {},
   "source": [
    "## Exercise: calculate the running average\n",
    "\n",
    "Let's start by computing the running average."
   ]
  },
  {
   "cell_type": "code",
   "execution_count": 42,
   "metadata": {},
   "outputs": [],
   "source": [
    "# let's extract the arrays of the readings, values\n",
    "reads = dat['reading']\n",
    "vals = dat['d (mm)'].values\n",
    "\n",
    "# now count the number of observations\n",
    "n_obs = vals.shape[0]\n",
    "\n",
    "# create an empty array for the rolling average\n",
    "r_avg = np.zeros(n_obs)\n",
    "\n",
    "# fill the array with a for loop\n",
    "for i in range(n_obs):\n",
    "    if i == 0:\n",
    "        r_avg[i] = vals[i]\n",
    "    else:\n",
    "        # fill with your own code.\n",
    "        #   Hint:\n",
    "        #    use the np.mean function for the average\n",
    "        #    to consider all the elements of the array vals up to the i-th element (excluded)\n",
    "        #    use vals[:i] This is called slicing.\n",
    "        #\n",
    "        r_avg[i] = np.mean(vals[:i+1]) ### change this!!!"
   ]
  },
  {
   "cell_type": "code",
   "execution_count": 43,
   "metadata": {},
   "outputs": [],
   "source": [
    "dat['running_avg'] = r_avg"
   ]
  },
  {
   "cell_type": "code",
   "execution_count": 44,
   "metadata": {},
   "outputs": [
    {
     "data": {
      "text/html": [
       "<div>\n",
       "<style>\n",
       "    .dataframe thead tr:only-child th {\n",
       "        text-align: right;\n",
       "    }\n",
       "\n",
       "    .dataframe thead th {\n",
       "        text-align: left;\n",
       "    }\n",
       "\n",
       "    .dataframe tbody tr th {\n",
       "        vertical-align: top;\n",
       "    }\n",
       "</style>\n",
       "<table border=\"1\" class=\"dataframe\">\n",
       "  <thead>\n",
       "    <tr style=\"text-align: right;\">\n",
       "      <th></th>\n",
       "      <th>reading</th>\n",
       "      <th>d (mm)</th>\n",
       "      <th>running_avg</th>\n",
       "    </tr>\n",
       "  </thead>\n",
       "  <tbody>\n",
       "    <tr>\n",
       "      <th>0</th>\n",
       "      <td>1</td>\n",
       "      <td>650.4</td>\n",
       "      <td>650.400000</td>\n",
       "    </tr>\n",
       "    <tr>\n",
       "      <th>1</th>\n",
       "      <td>2</td>\n",
       "      <td>660.6</td>\n",
       "      <td>655.500000</td>\n",
       "    </tr>\n",
       "    <tr>\n",
       "      <th>2</th>\n",
       "      <td>3</td>\n",
       "      <td>659.1</td>\n",
       "      <td>656.700000</td>\n",
       "    </tr>\n",
       "    <tr>\n",
       "      <th>3</th>\n",
       "      <td>4</td>\n",
       "      <td>669.6</td>\n",
       "      <td>659.925000</td>\n",
       "    </tr>\n",
       "    <tr>\n",
       "      <th>4</th>\n",
       "      <td>5</td>\n",
       "      <td>655.6</td>\n",
       "      <td>659.060000</td>\n",
       "    </tr>\n",
       "    <tr>\n",
       "      <th>5</th>\n",
       "      <td>6</td>\n",
       "      <td>654.4</td>\n",
       "      <td>658.283333</td>\n",
       "    </tr>\n",
       "    <tr>\n",
       "      <th>6</th>\n",
       "      <td>7</td>\n",
       "      <td>641.2</td>\n",
       "      <td>655.842857</td>\n",
       "    </tr>\n",
       "    <tr>\n",
       "      <th>7</th>\n",
       "      <td>8</td>\n",
       "      <td>648.2</td>\n",
       "      <td>654.887500</td>\n",
       "    </tr>\n",
       "    <tr>\n",
       "      <th>8</th>\n",
       "      <td>9</td>\n",
       "      <td>656.8</td>\n",
       "      <td>655.100000</td>\n",
       "    </tr>\n",
       "    <tr>\n",
       "      <th>9</th>\n",
       "      <td>10</td>\n",
       "      <td>662.1</td>\n",
       "      <td>655.800000</td>\n",
       "    </tr>\n",
       "    <tr>\n",
       "      <th>10</th>\n",
       "      <td>11</td>\n",
       "      <td>656.3</td>\n",
       "      <td>655.845455</td>\n",
       "    </tr>\n",
       "    <tr>\n",
       "      <th>11</th>\n",
       "      <td>12</td>\n",
       "      <td>652.0</td>\n",
       "      <td>655.525000</td>\n",
       "    </tr>\n",
       "    <tr>\n",
       "      <th>12</th>\n",
       "      <td>13</td>\n",
       "      <td>649.7</td>\n",
       "      <td>655.076923</td>\n",
       "    </tr>\n",
       "    <tr>\n",
       "      <th>13</th>\n",
       "      <td>14</td>\n",
       "      <td>642.8</td>\n",
       "      <td>654.200000</td>\n",
       "    </tr>\n",
       "    <tr>\n",
       "      <th>14</th>\n",
       "      <td>15</td>\n",
       "      <td>651.5</td>\n",
       "      <td>654.020000</td>\n",
       "    </tr>\n",
       "    <tr>\n",
       "      <th>15</th>\n",
       "      <td>16</td>\n",
       "      <td>653.6</td>\n",
       "      <td>653.993750</td>\n",
       "    </tr>\n",
       "    <tr>\n",
       "      <th>16</th>\n",
       "      <td>17</td>\n",
       "      <td>664.2</td>\n",
       "      <td>654.594118</td>\n",
       "    </tr>\n",
       "    <tr>\n",
       "      <th>17</th>\n",
       "      <td>18</td>\n",
       "      <td>643.6</td>\n",
       "      <td>653.983333</td>\n",
       "    </tr>\n",
       "    <tr>\n",
       "      <th>18</th>\n",
       "      <td>19</td>\n",
       "      <td>657.9</td>\n",
       "      <td>654.189474</td>\n",
       "    </tr>\n",
       "    <tr>\n",
       "      <th>19</th>\n",
       "      <td>20</td>\n",
       "      <td>651.0</td>\n",
       "      <td>654.030000</td>\n",
       "    </tr>\n",
       "    <tr>\n",
       "      <th>20</th>\n",
       "      <td>21</td>\n",
       "      <td>642.3</td>\n",
       "      <td>653.471429</td>\n",
       "    </tr>\n",
       "    <tr>\n",
       "      <th>21</th>\n",
       "      <td>22</td>\n",
       "      <td>648.1</td>\n",
       "      <td>653.227273</td>\n",
       "    </tr>\n",
       "    <tr>\n",
       "      <th>22</th>\n",
       "      <td>23</td>\n",
       "      <td>643.6</td>\n",
       "      <td>652.808696</td>\n",
       "    </tr>\n",
       "    <tr>\n",
       "      <th>23</th>\n",
       "      <td>24</td>\n",
       "      <td>664.1</td>\n",
       "      <td>653.279167</td>\n",
       "    </tr>\n",
       "    <tr>\n",
       "      <th>24</th>\n",
       "      <td>25</td>\n",
       "      <td>652.0</td>\n",
       "      <td>653.228000</td>\n",
       "    </tr>\n",
       "    <tr>\n",
       "      <th>25</th>\n",
       "      <td>26</td>\n",
       "      <td>666.3</td>\n",
       "      <td>653.730769</td>\n",
       "    </tr>\n",
       "    <tr>\n",
       "      <th>26</th>\n",
       "      <td>27</td>\n",
       "      <td>654.7</td>\n",
       "      <td>653.766667</td>\n",
       "    </tr>\n",
       "    <tr>\n",
       "      <th>27</th>\n",
       "      <td>28</td>\n",
       "      <td>648.5</td>\n",
       "      <td>653.578571</td>\n",
       "    </tr>\n",
       "    <tr>\n",
       "      <th>28</th>\n",
       "      <td>29</td>\n",
       "      <td>639.8</td>\n",
       "      <td>653.103448</td>\n",
       "    </tr>\n",
       "    <tr>\n",
       "      <th>29</th>\n",
       "      <td>30</td>\n",
       "      <td>646.0</td>\n",
       "      <td>652.866667</td>\n",
       "    </tr>\n",
       "    <tr>\n",
       "      <th>30</th>\n",
       "      <td>31</td>\n",
       "      <td>665.8</td>\n",
       "      <td>653.283871</td>\n",
       "    </tr>\n",
       "    <tr>\n",
       "      <th>31</th>\n",
       "      <td>32</td>\n",
       "      <td>669.1</td>\n",
       "      <td>653.778125</td>\n",
       "    </tr>\n",
       "    <tr>\n",
       "      <th>32</th>\n",
       "      <td>33</td>\n",
       "      <td>658.3</td>\n",
       "      <td>653.915152</td>\n",
       "    </tr>\n",
       "    <tr>\n",
       "      <th>33</th>\n",
       "      <td>34</td>\n",
       "      <td>646.0</td>\n",
       "      <td>653.682353</td>\n",
       "    </tr>\n",
       "    <tr>\n",
       "      <th>34</th>\n",
       "      <td>35</td>\n",
       "      <td>638.8</td>\n",
       "      <td>653.257143</td>\n",
       "    </tr>\n",
       "    <tr>\n",
       "      <th>35</th>\n",
       "      <td>36</td>\n",
       "      <td>654.5</td>\n",
       "      <td>653.291667</td>\n",
       "    </tr>\n",
       "    <tr>\n",
       "      <th>36</th>\n",
       "      <td>37</td>\n",
       "      <td>657.6</td>\n",
       "      <td>653.408108</td>\n",
       "    </tr>\n",
       "    <tr>\n",
       "      <th>37</th>\n",
       "      <td>38</td>\n",
       "      <td>653.5</td>\n",
       "      <td>653.410526</td>\n",
       "    </tr>\n",
       "    <tr>\n",
       "      <th>38</th>\n",
       "      <td>39</td>\n",
       "      <td>647.9</td>\n",
       "      <td>653.269231</td>\n",
       "    </tr>\n",
       "    <tr>\n",
       "      <th>39</th>\n",
       "      <td>40</td>\n",
       "      <td>656.0</td>\n",
       "      <td>653.337500</td>\n",
       "    </tr>\n",
       "    <tr>\n",
       "      <th>40</th>\n",
       "      <td>41</td>\n",
       "      <td>662.3</td>\n",
       "      <td>653.556098</td>\n",
       "    </tr>\n",
       "    <tr>\n",
       "      <th>41</th>\n",
       "      <td>42</td>\n",
       "      <td>676.9</td>\n",
       "      <td>654.111905</td>\n",
       "    </tr>\n",
       "    <tr>\n",
       "      <th>42</th>\n",
       "      <td>43</td>\n",
       "      <td>649.4</td>\n",
       "      <td>654.002326</td>\n",
       "    </tr>\n",
       "    <tr>\n",
       "      <th>43</th>\n",
       "      <td>44</td>\n",
       "      <td>624.3</td>\n",
       "      <td>653.327273</td>\n",
       "    </tr>\n",
       "    <tr>\n",
       "      <th>44</th>\n",
       "      <td>45</td>\n",
       "      <td>671.4</td>\n",
       "      <td>653.728889</td>\n",
       "    </tr>\n",
       "    <tr>\n",
       "      <th>45</th>\n",
       "      <td>46</td>\n",
       "      <td>660.7</td>\n",
       "      <td>653.880435</td>\n",
       "    </tr>\n",
       "    <tr>\n",
       "      <th>46</th>\n",
       "      <td>47</td>\n",
       "      <td>634.5</td>\n",
       "      <td>653.468085</td>\n",
       "    </tr>\n",
       "    <tr>\n",
       "      <th>47</th>\n",
       "      <td>48</td>\n",
       "      <td>662.5</td>\n",
       "      <td>653.656250</td>\n",
       "    </tr>\n",
       "    <tr>\n",
       "      <th>48</th>\n",
       "      <td>49</td>\n",
       "      <td>656.4</td>\n",
       "      <td>653.712245</td>\n",
       "    </tr>\n",
       "    <tr>\n",
       "      <th>49</th>\n",
       "      <td>50</td>\n",
       "      <td>651.1</td>\n",
       "      <td>653.660000</td>\n",
       "    </tr>\n",
       "  </tbody>\n",
       "</table>\n",
       "</div>"
      ],
      "text/plain": [
       "    reading  d (mm)  running_avg\n",
       "0         1   650.4   650.400000\n",
       "1         2   660.6   655.500000\n",
       "2         3   659.1   656.700000\n",
       "3         4   669.6   659.925000\n",
       "4         5   655.6   659.060000\n",
       "5         6   654.4   658.283333\n",
       "6         7   641.2   655.842857\n",
       "7         8   648.2   654.887500\n",
       "8         9   656.8   655.100000\n",
       "9        10   662.1   655.800000\n",
       "10       11   656.3   655.845455\n",
       "11       12   652.0   655.525000\n",
       "12       13   649.7   655.076923\n",
       "13       14   642.8   654.200000\n",
       "14       15   651.5   654.020000\n",
       "15       16   653.6   653.993750\n",
       "16       17   664.2   654.594118\n",
       "17       18   643.6   653.983333\n",
       "18       19   657.9   654.189474\n",
       "19       20   651.0   654.030000\n",
       "20       21   642.3   653.471429\n",
       "21       22   648.1   653.227273\n",
       "22       23   643.6   652.808696\n",
       "23       24   664.1   653.279167\n",
       "24       25   652.0   653.228000\n",
       "25       26   666.3   653.730769\n",
       "26       27   654.7   653.766667\n",
       "27       28   648.5   653.578571\n",
       "28       29   639.8   653.103448\n",
       "29       30   646.0   652.866667\n",
       "30       31   665.8   653.283871\n",
       "31       32   669.1   653.778125\n",
       "32       33   658.3   653.915152\n",
       "33       34   646.0   653.682353\n",
       "34       35   638.8   653.257143\n",
       "35       36   654.5   653.291667\n",
       "36       37   657.6   653.408108\n",
       "37       38   653.5   653.410526\n",
       "38       39   647.9   653.269231\n",
       "39       40   656.0   653.337500\n",
       "40       41   662.3   653.556098\n",
       "41       42   676.9   654.111905\n",
       "42       43   649.4   654.002326\n",
       "43       44   624.3   653.327273\n",
       "44       45   671.4   653.728889\n",
       "45       46   660.7   653.880435\n",
       "46       47   634.5   653.468085\n",
       "47       48   662.5   653.656250\n",
       "48       49   656.4   653.712245\n",
       "49       50   651.1   653.660000"
      ]
     },
     "execution_count": 44,
     "metadata": {},
     "output_type": "execute_result"
    }
   ],
   "source": [
    "# with this you visualize the first 50 elements of the table\n",
    "dat.head(50)"
   ]
  },
  {
   "cell_type": "markdown",
   "metadata": {},
   "source": [
    "Your running average should look like the one in the plot below:"
   ]
  },
  {
   "cell_type": "code",
   "execution_count": 45,
   "metadata": {},
   "outputs": [
    {
     "data": {
      "image/png": "[encoded data removed]",
      "text/plain": [
       "<Figure size 432x288 with 1 Axes>"
      ]
     },
     "metadata": {},
     "output_type": "display_data"
    }
   ],
   "source": [
    "plt.plot(reads, vals)\n",
    "plt.plot(reads, r_avg, label = 'run_avg')\n",
    "plt.xlabel('reading')\n",
    "plt.ylabel('d (mm)')\n",
    "plt.legend(loc = 'upper left')\n",
    "plt.show()"
   ]
  },
  {
   "cell_type": "markdown",
   "metadata": {},
   "source": [
    "## Variance\n",
    "The variance is calculated using the ``numpy`` function ``var``. Since we imported ``numpy`` with the name ``np``, we call the ``var`` function as ``np.var``. However the definition in ``numpy`` is \n",
    "$$\n",
    "\\sigma = \\frac{1}{N} \\sum_{i = 1}^N (d_i - \\bar{d})^2,\n",
    "$$\n",
    "so you have to multiply your result by \n",
    "$$\n",
    "\\frac{N}{N-1}.\n",
    "$$"
   ]
  },
  {
   "cell_type": "code",
   "execution_count": 52,
   "metadata": {},
   "outputs": [
    {
     "data": {
      "text/plain": [
       "99.380816326530663"
      ]
     },
     "execution_count": 52,
     "metadata": {},
     "output_type": "execute_result"
    }
   ],
   "source": [
    "var = np.var(vals)*n_obs/(n_obs-1)\n",
    "var"
   ]
  },
  {
   "cell_type": "markdown",
   "metadata": {},
   "source": [
    "Then compute the standard deviation using ``np.sqrt`` for the square root."
   ]
  },
  {
   "cell_type": "code",
   "execution_count": 48,
   "metadata": {},
   "outputs": [
    {
     "data": {
      "text/plain": [
       "9.968992743829773"
      ]
     },
     "execution_count": 48,
     "metadata": {},
     "output_type": "execute_result"
    }
   ],
   "source": [
    "stdev = np.sqrt(var)## complete here\n",
    "stdev"
   ]
  },
  {
   "cell_type": "markdown",
   "metadata": {},
   "source": [
    "## Uncertainty of the mean\n",
    "Simply divide the variance of the samples by the square root of the number of samples:\n",
    "$$\n",
    "\\sigma_{\\rm mean} = \\frac{\\sigma}{\\sqrt{N}}\n",
    "$$\n",
    "\n"
   ]
  },
  {
   "cell_type": "code",
   "execution_count": 57,
   "metadata": {},
   "outputs": [
    {
     "data": {
      "text/plain": [
       "1.4098284741523037"
      ]
     },
     "execution_count": 57,
     "metadata": {},
     "output_type": "execute_result"
    }
   ],
   "source": [
    "std_mean = stdev/np.sqrt(n_obs)\n",
    "std_mean"
   ]
  },
  {
   "cell_type": "code",
   "execution_count": 58,
   "metadata": {},
   "outputs": [],
   "source": [
    "std_mean = np.sqrt(var_mean)"
   ]
  },
  {
   "cell_type": "code",
   "execution_count": 56,
   "metadata": {},
   "outputs": [
    {
     "data": {
      "text/plain": [
       "3.7489424947402057"
      ]
     },
     "execution_count": 56,
     "metadata": {},
     "output_type": "execute_result"
    }
   ],
   "source": [
    "std_mean"
   ]
  },
  {
   "cell_type": "code",
   "execution_count": null,
   "metadata": {},
   "outputs": [],
   "source": []
  }
 ],
 "metadata": {
  "kernelspec": {
   "display_name": "Python 3",
   "language": "python",
   "name": "python3"
  },
  "language_info": {
   "codemirror_mode": {
    "name": "ipython",
    "version": 3
   },
   "file_extension": ".py",
   "mimetype": "text/x-python",
   "name": "python",
   "nbconvert_exporter": "python",
   "pygments_lexer": "ipython3",
   "version": "3.6.8"
  }
 },
 "nbformat": 4,
 "nbformat_minor": 2
}
