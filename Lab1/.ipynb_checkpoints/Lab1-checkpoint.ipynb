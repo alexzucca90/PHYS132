{
 "cells": [
  {
   "cell_type": "markdown",
   "metadata": {},
   "source": [
    "# Lab 1: Density\n",
    "\n",
    "First lab in PHYS 132. Just a simple Jupyter notebook.\n",
    "\n",
    "Measuring a cylinder density. "
   ]
  },
  {
   "cell_type": "markdown",
   "metadata": {},
   "source": [
    "## Error propagation:\n",
    "\n",
    "The idea is to measure the density of one cylinder. The density is given by \n",
    "$$\n",
    "\\rho = \\frac{m}{V}\n",
    "$$\n",
    "where $V$ is the volume of the cylinder and $m$ is its mass.\n",
    "\n",
    "The volume is given by \n",
    "\n",
    "$$\n",
    "V = \\frac{\\pi d^2}{4} h,\n",
    "$$\n",
    "\n",
    "where $d$ is the diameter of the cylinder and $h$ is its height. \n",
    "\n",
    "What is the uncertatainty on the volume? Let us assume the diamater is measured with uncertainty $\\Delta d$, while the uncertainty on the height is $\\Delta h$.\n",
    "\n",
    "### Method 1: Direct \n",
    "\n",
    "First, let us directly compute the spread in the uncertainty: we first compute the maximum and the minimum possible volumes:\n",
    "\n",
    "$$\n",
    "V_{\\rm max} = \\frac{\\pi (d + \\Delta d)^2}{4} (h+\\Delta h)\n",
    "$$\n",
    "\n",
    "$$\n",
    "V_{\\rm min} = \\frac{\\pi (d - \\Delta d)^2}{4} (h-\\Delta h)\n",
    "$$\n",
    "\n",
    "Then to compute $\\Delta V$ we just take the difference of the two quantities and divide it by 2:\n",
    "\n",
    "$$\n",
    "\\Delta V = \\frac{V_{\\rm max} - V_{\\rm min}}{2}.\n",
    "$$\n",
    "\n",
    "### Method 2: Calculus Based.\n",
    "\n"
   ]
  },
  {
   "cell_type": "markdown",
   "metadata": {},
   "source": [
    "## Measurements:\n",
    "\n",
    "Here we take the measurements:"
   ]
  },
  {
   "cell_type": "code",
   "execution_count": null,
   "metadata": {},
   "outputs": [],
   "source": [
    "### "
   ]
  },
  {
   "cell_type": "code",
   "execution_count": 1,
   "metadata": {},
   "outputs": [],
   "source": [
    "diam1 = 0.01"
   ]
  },
  {
   "cell_type": "code",
   "execution_count": 2,
   "metadata": {},
   "outputs": [],
   "source": [
    "delta_diam1 = 0.0001"
   ]
  },
  {
   "cell_type": "code",
   "execution_count": 3,
   "metadata": {},
   "outputs": [],
   "source": [
    "height1 = 0.01"
   ]
  },
  {
   "cell_type": "code",
   "execution_count": 4,
   "metadata": {},
   "outputs": [],
   "source": [
    "delta_height1 = 0.0001"
   ]
  },
  {
   "cell_type": "code",
   "execution_count": null,
   "metadata": {},
   "outputs": [],
   "source": []
  }
 ],
 "metadata": {
  "kernelspec": {
   "display_name": "Python 3",
   "language": "python",
   "name": "python3"
  },
  "language_info": {
   "codemirror_mode": {
    "name": "ipython",
    "version": 3
   },
   "file_extension": ".py",
   "mimetype": "text/x-python",
   "name": "python",
   "nbconvert_exporter": "python",
   "pygments_lexer": "ipython3",
   "version": "3.6.2"
  }
 },
 "nbformat": 4,
 "nbformat_minor": 2
}
