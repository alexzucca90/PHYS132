{
 "cells": [
  {
   "cell_type": "markdown",
   "metadata": {},
   "source": [
    "# Lab 2: Warm Up activity\n",
    "\n",
    "This is a Jupyter notebook. It is a very nice interactive environment for Python code. It is widely used in Physics, I use it all the time!!!\n",
    "\n",
    "Run this online here: https://mybinder.org/v2/gh/alexzucca90/PHYS132/master"
   ]
  },
  {
   "cell_type": "markdown",
   "metadata": {},
   "source": [
    "The libraries are imported below. We use pandas for importing data, numpy to do some manipulation of the data. We dont't have to use numpy: sometimes pandas is enough. Matplotlib is a commonly used libraray for plotting, and seaborn is to give it a nice \"touch\""
   ]
  },
  {
   "cell_type": "code",
   "execution_count": 1,
   "metadata": {},
   "outputs": [],
   "source": [
    "import pandas as pd\n",
    "import numpy as np\n",
    "import matplotlib.pyplot as plt\n",
    "import seaborn as sns"
   ]
  },
  {
   "cell_type": "markdown",
   "metadata": {},
   "source": [
    "Here we set up the seaborn environment for plotting"
   ]
  },
  {
   "cell_type": "code",
   "execution_count": 2,
   "metadata": {},
   "outputs": [],
   "source": [
    "sns.set()"
   ]
  },
  {
   "cell_type": "markdown",
   "metadata": {},
   "source": [
    "pandas is useful to read data from .csv files"
   ]
  },
  {
   "cell_type": "code",
   "execution_count": 3,
   "metadata": {},
   "outputs": [],
   "source": [
    "df = pd.read_csv('./data/data.csv', index_col=0)"
   ]
  },
  {
   "cell_type": "code",
   "execution_count": 4,
   "metadata": {},
   "outputs": [
    {
     "data": {
      "text/html": [
       "<div>\n",
       "<style>\n",
       "    .dataframe thead tr:only-child th {\n",
       "        text-align: right;\n",
       "    }\n",
       "\n",
       "    .dataframe thead th {\n",
       "        text-align: left;\n",
       "    }\n",
       "\n",
       "    .dataframe tbody tr th {\n",
       "        vertical-align: top;\n",
       "    }\n",
       "</style>\n",
       "<table border=\"1\" class=\"dataframe\">\n",
       "  <thead>\n",
       "    <tr style=\"text-align: right;\">\n",
       "      <th></th>\n",
       "      <th>Factory 1</th>\n",
       "      <th>Factory 2</th>\n",
       "      <th>Factory 3</th>\n",
       "      <th>Factory 4</th>\n",
       "    </tr>\n",
       "    <tr>\n",
       "      <th>Widget #</th>\n",
       "      <th></th>\n",
       "      <th></th>\n",
       "      <th></th>\n",
       "      <th></th>\n",
       "    </tr>\n",
       "  </thead>\n",
       "  <tbody>\n",
       "    <tr>\n",
       "      <th>1</th>\n",
       "      <td>5.8352</td>\n",
       "      <td>6.89035</td>\n",
       "      <td>6.25314</td>\n",
       "      <td>7.33737</td>\n",
       "    </tr>\n",
       "    <tr>\n",
       "      <th>2</th>\n",
       "      <td>5.1977</td>\n",
       "      <td>6.79997</td>\n",
       "      <td>6.27275</td>\n",
       "      <td>5.03357</td>\n",
       "    </tr>\n",
       "    <tr>\n",
       "      <th>3</th>\n",
       "      <td>5.1776</td>\n",
       "      <td>6.90900</td>\n",
       "      <td>6.40984</td>\n",
       "      <td>3.87094</td>\n",
       "    </tr>\n",
       "    <tr>\n",
       "      <th>4</th>\n",
       "      <td>7.0882</td>\n",
       "      <td>6.93394</td>\n",
       "      <td>6.27221</td>\n",
       "      <td>8.00277</td>\n",
       "    </tr>\n",
       "    <tr>\n",
       "      <th>5</th>\n",
       "      <td>6.4226</td>\n",
       "      <td>7.03119</td>\n",
       "      <td>6.37015</td>\n",
       "      <td>4.85046</td>\n",
       "    </tr>\n",
       "    <tr>\n",
       "      <th>6</th>\n",
       "      <td>6.4039</td>\n",
       "      <td>6.84059</td>\n",
       "      <td>6.09482</td>\n",
       "      <td>4.12194</td>\n",
       "    </tr>\n",
       "    <tr>\n",
       "      <th>7</th>\n",
       "      <td>8.0193</td>\n",
       "      <td>6.64616</td>\n",
       "      <td>6.26462</td>\n",
       "      <td>4.71249</td>\n",
       "    </tr>\n",
       "    <tr>\n",
       "      <th>8</th>\n",
       "      <td>6.8916</td>\n",
       "      <td>6.77604</td>\n",
       "      <td>6.21764</td>\n",
       "      <td>3.60415</td>\n",
       "    </tr>\n",
       "    <tr>\n",
       "      <th>9</th>\n",
       "      <td>6.7978</td>\n",
       "      <td>6.99546</td>\n",
       "      <td>6.14229</td>\n",
       "      <td>3.05974</td>\n",
       "    </tr>\n",
       "    <tr>\n",
       "      <th>10</th>\n",
       "      <td>8.1877</td>\n",
       "      <td>6.75278</td>\n",
       "      <td>6.35080</td>\n",
       "      <td>10.35200</td>\n",
       "    </tr>\n",
       "  </tbody>\n",
       "</table>\n",
       "</div>"
      ],
      "text/plain": [
       "          Factory 1  Factory 2  Factory 3  Factory 4\n",
       "Widget #                                            \n",
       "1            5.8352    6.89035    6.25314    7.33737\n",
       "2            5.1977    6.79997    6.27275    5.03357\n",
       "3            5.1776    6.90900    6.40984    3.87094\n",
       "4            7.0882    6.93394    6.27221    8.00277\n",
       "5            6.4226    7.03119    6.37015    4.85046\n",
       "6            6.4039    6.84059    6.09482    4.12194\n",
       "7            8.0193    6.64616    6.26462    4.71249\n",
       "8            6.8916    6.77604    6.21764    3.60415\n",
       "9            6.7978    6.99546    6.14229    3.05974\n",
       "10           8.1877    6.75278    6.35080   10.35200"
      ]
     },
     "execution_count": 4,
     "metadata": {},
     "output_type": "execute_result"
    }
   ],
   "source": [
    "df.head(10)"
   ]
  },
  {
   "cell_type": "markdown",
   "metadata": {},
   "source": [
    "Extract the data as numpy arrays."
   ]
  },
  {
   "cell_type": "code",
   "execution_count": 5,
   "metadata": {},
   "outputs": [],
   "source": [
    "number = df.index.values\n",
    "f1 = df['Factory 1'].values"
   ]
  },
  {
   "cell_type": "code",
   "execution_count": 24,
   "metadata": {},
   "outputs": [
    {
     "data": {
      "image/png": "[encoded data removed]",
      "text/plain": [
       "<Figure size 720x360 with 1 Axes>"
      ]
     },
     "metadata": {},
     "output_type": "display_data"
    }
   ],
   "source": [
    "# this modifies the size of the plot.\n",
    "fig = plt.figure(figsize= (10,5))\n",
    "\n",
    "# this plots the lines\n",
    "plt.plot(number, f1, color = 'C0', label = r'F1', linewidth  = 1.0, linestyle = '-', marker = 'o')\n",
    "\n",
    "plt.title('Factory values')\n",
    "\n",
    "# place the legend in the upper left corner\n",
    "plt.legend(loc = 'upper left')\n",
    "\n",
    "# label the axis\n",
    "plt.xlabel(r'number')\n",
    "plt.ylabel(r'widget size (cm)')\n",
    "\n",
    "# show the plot\n",
    "plt.show()"
   ]
  },
  {
   "cell_type": "markdown",
   "metadata": {},
   "source": [
    "Use numpy to calculate mean (average) and stddev"
   ]
  },
  {
   "cell_type": "code",
   "execution_count": 21,
   "metadata": {},
   "outputs": [
    {
     "name": "stdout",
     "output_type": "stream",
     "text": [
      "f1: 6.60216 +- 0.976839998362 cm \n",
      "\n"
     ]
    }
   ],
   "source": [
    "# calculate the mean\n",
    "av1 = np.mean(f1)\n",
    "\n",
    "# calculate the std dev\n",
    "std1 = np.sqrt(np.var(f1))\n",
    "\n",
    "# print the result\n",
    "print('f1:', av1, r'+-', std1, 'cm \\n')\n"
   ]
  },
  {
   "cell_type": "markdown",
   "metadata": {},
   "source": [
    "# Do the rest!!"
   ]
  },
  {
   "cell_type": "code",
   "execution_count": null,
   "metadata": {},
   "outputs": [],
   "source": []
  }
 ],
 "metadata": {
  "kernelspec": {
   "display_name": "Python 3",
   "language": "python",
   "name": "python3"
  },
  "language_info": {
   "codemirror_mode": {
    "name": "ipython",
    "version": 3
   },
   "file_extension": ".py",
   "mimetype": "text/x-python",
   "name": "python",
   "nbconvert_exporter": "python",
   "pygments_lexer": "ipython3",
   "version": "3.6.2"
  }
 },
 "nbformat": 4,
 "nbformat_minor": 2
}
