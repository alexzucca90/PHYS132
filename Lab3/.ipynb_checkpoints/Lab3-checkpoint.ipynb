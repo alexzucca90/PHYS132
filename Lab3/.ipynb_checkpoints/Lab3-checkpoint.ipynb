{
 "cells": [
  {
   "cell_type": "markdown",
   "metadata": {},
   "source": [
    "# Lab 3: Fan carts\n",
    "\n",
    "This is the notebook to solve the Lab 3 exercise. If you want to run it online, please use the link below:\n",
    "\n",
    "https://mybinder.org/v2/gh/alexzucca90/PHYS132/master?filepath=%2FLab3%2FLab3.ipynb\n",
    "\n",
    "\n",
    "It introduces **pandas** (https://pandas.pydata.org), a package used to manipulate datasets easily. We'll use it to simply import the data in csv format. \n",
    "\n",
    "We are also going to use **matplotlib** (https://matplotlib.org), a python package for plotting. We'll basically use it to do some simple visualization of the quantities we are analyzing.\n",
    "\n",
    "To perform some basic fitting, we are going to use the package **scipy** (https://www.scipy.org) and in particular the ``curve_fit`` function from the library ``optimize``.\n",
    "\n",
    "## Introduction\n",
    "\n",
    "In this lab, the goal is to measure the inertial mass of a cart ($m_{\\rm cart}$) moving on a rail. When the cart is propelled by a fan, it accelerates according to \n",
    "$$\n",
    "F_{\\rm fan} = m_{\\rm cart} a_1.\n",
    "$$\n",
    "\n",
    "If we put a a block with known mass on the cart ($m_{\\rm B} = 250 g$), and turn on the fan the cart will move with acceleration\n",
    "$$\n",
    "F_{\\rm fan} = (m_{\\rm cart} + m_{\\rm B}) a_2\n",
    "$$\n",
    "\n",
    "Assuming that the force of the fan is constant (if the batteries of the fan are not dead), we can write\n",
    "\n",
    "$$\n",
    "m_{\\rm cart} a_1 = (m_{\\rm cart} + m_{\\rm B}) a_2\n",
    "$$\n",
    "\n",
    "and get the mass of the cart as\n",
    "$$\n",
    "m_{\\rm cart} = \\frac{m_B a_2}{a_1 - a_2}\n",
    "$$\n",
    "\n",
    "In this lab the goal is to measure the two accelerations $a_1$ and $a_2$ and from them, find the mass of the cart. This is measurement of the inertial mass of the cart. When you measure it with a scale, you are measuring the gravitational mass of the cart. The two masses are supposed to be equivalent: this fact is called Weak Equivalence Principle (https://en.wikipedia.org/wiki/Equivalence_principle) and it's experimentally tested at very high accuracy. Currently experiments tell that the gravitational and inertial mass are the same up to one part in $10^{17}$."
   ]
  },
  {
   "cell_type": "code",
   "execution_count": 1,
   "metadata": {},
   "outputs": [],
   "source": [
    "import numpy as np\n",
    "import pandas as pd\n",
    "import scipy \n",
    "import matplotlib.pyplot as plt\n",
    "import seaborn as sns\n",
    "\n",
    "# import the curve fit feature from scipy. This is going to be used for the measurement of the acceleration\n",
    "from scipy.optimize import curve_fit"
   ]
  },
  {
   "cell_type": "code",
   "execution_count": 31,
   "metadata": {},
   "outputs": [],
   "source": [
    "# uncomment this command to use the seaborn plotting package\n",
    "#sns.set()"
   ]
  },
  {
   "cell_type": "code",
   "execution_count": 32,
   "metadata": {},
   "outputs": [],
   "source": [
    "# import the data\n",
    "noMass = pd.read_csv('./data/acceleration_no_mass.csv')"
   ]
  },
  {
   "cell_type": "code",
   "execution_count": 33,
   "metadata": {},
   "outputs": [
    {
     "data": {
      "text/html": [
       "<div>\n",
       "<style>\n",
       "    .dataframe thead tr:only-child th {\n",
       "        text-align: right;\n",
       "    }\n",
       "\n",
       "    .dataframe thead th {\n",
       "        text-align: left;\n",
       "    }\n",
       "\n",
       "    .dataframe tbody tr th {\n",
       "        vertical-align: top;\n",
       "    }\n",
       "</style>\n",
       "<table border=\"1\" class=\"dataframe\">\n",
       "  <thead>\n",
       "    <tr style=\"text-align: right;\">\n",
       "      <th></th>\n",
       "      <th>Latest: Time (s)</th>\n",
       "      <th>Latest: Position (m)</th>\n",
       "      <th>Latest: Velocity (m/s)</th>\n",
       "      <th>Latest: Acceleration (m/s²)</th>\n",
       "    </tr>\n",
       "  </thead>\n",
       "  <tbody>\n",
       "    <tr>\n",
       "      <th>0</th>\n",
       "      <td>0.05</td>\n",
       "      <td>0.257406</td>\n",
       "      <td>0.117850</td>\n",
       "      <td>0.124851</td>\n",
       "    </tr>\n",
       "    <tr>\n",
       "      <th>1</th>\n",
       "      <td>0.10</td>\n",
       "      <td>0.263147</td>\n",
       "      <td>0.122922</td>\n",
       "      <td>0.159983</td>\n",
       "    </tr>\n",
       "    <tr>\n",
       "      <th>2</th>\n",
       "      <td>0.15</td>\n",
       "      <td>0.269334</td>\n",
       "      <td>0.131314</td>\n",
       "      <td>0.209914</td>\n",
       "    </tr>\n",
       "    <tr>\n",
       "      <th>3</th>\n",
       "      <td>0.20</td>\n",
       "      <td>0.276018</td>\n",
       "      <td>0.144172</td>\n",
       "      <td>0.254259</td>\n",
       "    </tr>\n",
       "    <tr>\n",
       "      <th>4</th>\n",
       "      <td>0.25</td>\n",
       "      <td>0.283713</td>\n",
       "      <td>0.158855</td>\n",
       "      <td>0.262481</td>\n",
       "    </tr>\n",
       "  </tbody>\n",
       "</table>\n",
       "</div>"
      ],
      "text/plain": [
       "   Latest: Time (s)  Latest: Position (m)  Latest: Velocity (m/s)  \\\n",
       "0              0.05              0.257406                0.117850   \n",
       "1              0.10              0.263147                0.122922   \n",
       "2              0.15              0.269334                0.131314   \n",
       "3              0.20              0.276018                0.144172   \n",
       "4              0.25              0.283713                0.158855   \n",
       "\n",
       "   Latest: Acceleration (m/s²)  \n",
       "0                     0.124851  \n",
       "1                     0.159983  \n",
       "2                     0.209914  \n",
       "3                     0.254259  \n",
       "4                     0.262481  "
      ]
     },
     "execution_count": 33,
     "metadata": {},
     "output_type": "execute_result"
    }
   ],
   "source": [
    "# visualize the data\n",
    "noMass.head()"
   ]
  },
  {
   "cell_type": "markdown",
   "metadata": {},
   "source": [
    "Let's see how the data looks like:"
   ]
  },
  {
   "cell_type": "code",
   "execution_count": 34,
   "metadata": {},
   "outputs": [
    {
     "data": {
      "image/png": "[encoded data removed]",
      "text/plain": [
       "<Figure size 432x288 with 1 Axes>"
      ]
     },
     "metadata": {},
     "output_type": "display_data"
    }
   ],
   "source": [
    "plt.plot(noMass['Latest: Time (s)'].values, noMass['Latest: Position (m)'].values)\n",
    "plt.xlabel('Time [s]')\n",
    "plt.ylabel('Position [m]')\n",
    "plt.show()"
   ]
  },
  {
   "cell_type": "markdown",
   "metadata": {},
   "source": [
    "Let's remove the tail of the data!! We are not going to fit that to the model. The next two parameters are the "
   ]
  },
  {
   "cell_type": "code",
   "execution_count": 48,
   "metadata": {},
   "outputs": [],
   "source": [
    "# these two are the upper and lower bounds for the graph: see the plot below and modify accordingly\n",
    "time_up = 2.0\n",
    "time_down = 0.15"
   ]
  },
  {
   "cell_type": "markdown",
   "metadata": {},
   "source": [
    "we are selecting the area between the two lines plotted below"
   ]
  },
  {
   "cell_type": "code",
   "execution_count": 36,
   "metadata": {},
   "outputs": [
    {
     "data": {
      "image/png": "[encoded data removed]",
      "text/plain": [
       "<Figure size 432x288 with 1 Axes>"
      ]
     },
     "metadata": {},
     "output_type": "display_data"
    }
   ],
   "source": [
    "# This  is the selected day\n",
    "plt.plot(noMass['Latest: Time (s)'].values, noMass['Latest: Position (m)'].values)\n",
    "plt.axvline(time_down, color = 'black')\n",
    "plt.axvline(time_up, color = 'black')\n",
    "plt.xlabel('Time [s]')\n",
    "plt.ylabel('Position [m]')\n",
    "plt.show()"
   ]
  },
  {
   "cell_type": "markdown",
   "metadata": {},
   "source": [
    "Now let's remove the data"
   ]
  },
  {
   "cell_type": "code",
   "execution_count": 37,
   "metadata": {},
   "outputs": [
    {
     "data": {
      "text/html": [
       "<div>\n",
       "<style>\n",
       "    .dataframe thead tr:only-child th {\n",
       "        text-align: right;\n",
       "    }\n",
       "\n",
       "    .dataframe thead th {\n",
       "        text-align: left;\n",
       "    }\n",
       "\n",
       "    .dataframe tbody tr th {\n",
       "        vertical-align: top;\n",
       "    }\n",
       "</style>\n",
       "<table border=\"1\" class=\"dataframe\">\n",
       "  <thead>\n",
       "    <tr style=\"text-align: right;\">\n",
       "      <th></th>\n",
       "      <th>Latest: Time (s)</th>\n",
       "      <th>Latest: Position (m)</th>\n",
       "      <th>Latest: Velocity (m/s)</th>\n",
       "      <th>Latest: Acceleration (m/s²)</th>\n",
       "    </tr>\n",
       "  </thead>\n",
       "  <tbody>\n",
       "    <tr>\n",
       "      <th>3</th>\n",
       "      <td>0.20</td>\n",
       "      <td>0.276018</td>\n",
       "      <td>0.144172</td>\n",
       "      <td>0.254259</td>\n",
       "    </tr>\n",
       "    <tr>\n",
       "      <th>4</th>\n",
       "      <td>0.25</td>\n",
       "      <td>0.283713</td>\n",
       "      <td>0.158855</td>\n",
       "      <td>0.262481</td>\n",
       "    </tr>\n",
       "    <tr>\n",
       "      <th>5</th>\n",
       "      <td>0.30</td>\n",
       "      <td>0.292077</td>\n",
       "      <td>0.170840</td>\n",
       "      <td>0.257243</td>\n",
       "    </tr>\n",
       "    <tr>\n",
       "      <th>6</th>\n",
       "      <td>0.35</td>\n",
       "      <td>0.300714</td>\n",
       "      <td>0.183894</td>\n",
       "      <td>0.259661</td>\n",
       "    </tr>\n",
       "    <tr>\n",
       "      <th>7</th>\n",
       "      <td>0.40</td>\n",
       "      <td>0.310415</td>\n",
       "      <td>0.197633</td>\n",
       "      <td>0.249136</td>\n",
       "    </tr>\n",
       "  </tbody>\n",
       "</table>\n",
       "</div>"
      ],
      "text/plain": [
       "   Latest: Time (s)  Latest: Position (m)  Latest: Velocity (m/s)  \\\n",
       "3              0.20              0.276018                0.144172   \n",
       "4              0.25              0.283713                0.158855   \n",
       "5              0.30              0.292077                0.170840   \n",
       "6              0.35              0.300714                0.183894   \n",
       "7              0.40              0.310415                0.197633   \n",
       "\n",
       "   Latest: Acceleration (m/s²)  \n",
       "3                     0.254259  \n",
       "4                     0.262481  \n",
       "5                     0.257243  \n",
       "6                     0.259661  \n",
       "7                     0.249136  "
      ]
     },
     "execution_count": 37,
     "metadata": {},
     "output_type": "execute_result"
    }
   ],
   "source": [
    "noMassClean = noMass.loc[(noMass['Latest: Time (s)']<time_up) & (noMass['Latest: Time (s)']>time_down) ]\n",
    "noMassClean.head()"
   ]
  },
  {
   "cell_type": "markdown",
   "metadata": {},
   "source": [
    "Let's plot the position:"
   ]
  },
  {
   "cell_type": "code",
   "execution_count": 38,
   "metadata": {},
   "outputs": [
    {
     "data": {
      "image/png": "[encoded data removed]",
      "text/plain": [
       "<Figure size 432x288 with 1 Axes>"
      ]
     },
     "metadata": {},
     "output_type": "display_data"
    }
   ],
   "source": [
    "plt.plot(noMassClean['Latest: Time (s)'].values, noMassClean['Latest: Position (m)'].values)\n",
    "plt.xlabel('Time [s]')\n",
    "plt.ylabel('Position [m]')\n",
    "plt.show()"
   ]
  },
  {
   "cell_type": "markdown",
   "metadata": {},
   "source": [
    "Let's plot the velocity:"
   ]
  },
  {
   "cell_type": "code",
   "execution_count": 39,
   "metadata": {},
   "outputs": [
    {
     "data": {
      "image/png": "[encoded data removed]",
      "text/plain": [
       "<Figure size 432x288 with 1 Axes>"
      ]
     },
     "metadata": {},
     "output_type": "display_data"
    }
   ],
   "source": [
    "plt.plot(noMassClean['Latest: Time (s)'].values, noMassClean['Latest: Velocity (m/s)'].values)\n",
    "plt.xlabel('Time [s]')\n",
    "plt.ylabel('Velocity [m/s]')\n",
    "plt.show()"
   ]
  },
  {
   "cell_type": "markdown",
   "metadata": {},
   "source": [
    "Let's define a function ``position`` that returns the following value.\n",
    "\n",
    "$$\n",
    "x(t) = \\frac{1}{2} a t^2 + v_0 t + s_0\n",
    "$$"
   ]
  },
  {
   "cell_type": "code",
   "execution_count": 40,
   "metadata": {},
   "outputs": [],
   "source": [
    "t = noMassClean['Latest: Time (s)'].values"
   ]
  },
  {
   "cell_type": "code",
   "execution_count": 41,
   "metadata": {},
   "outputs": [],
   "source": [
    "x = noMassClean['Latest: Position (m)'].values"
   ]
  },
  {
   "cell_type": "code",
   "execution_count": 42,
   "metadata": {},
   "outputs": [],
   "source": [
    "def position(t, a, v0, s0):\n",
    "    x = 0.5 * a * np.multiply(t,t) + v0 * t + s0\n",
    "    return x"
   ]
  },
  {
   "cell_type": "markdown",
   "metadata": {},
   "source": [
    "And let's perform the fit using the ``curve_fit`` function from **scipy**. \n",
    "\n",
    "The variable ``popt`` are the optimal parameters for the fit and ``pcov`` is the covariance matrix for the parameters."
   ]
  },
  {
   "cell_type": "code",
   "execution_count": 43,
   "metadata": {},
   "outputs": [],
   "source": [
    "popt, pcov = curve_fit(f=position, xdata=t, ydata=y, bounds=([-1,-1,-1],[1,1,1]))"
   ]
  },
  {
   "cell_type": "markdown",
   "metadata": {},
   "source": [
    "The ``bounds`` are the intervals in which you think the end results are going to fall. The first list, ``[-1,-1,-1]`` is saying that the lower bounds on ``a``, ``s0`` and ``v0`` respectively while the second list, ``[1,1,1]``, are the upper bounds.\n",
    "\n",
    "The best-fit parameters are"
   ]
  },
  {
   "cell_type": "code",
   "execution_count": 45,
   "metadata": {},
   "outputs": [
    {
     "name": "stdout",
     "output_type": "stream",
     "text": [
      "a  : 0.24580195242    m/s^2\n",
      "v_0: 0.0999856682017  m/s\n",
      "s_0: 0.250713612399   m/s\n"
     ]
    }
   ],
   "source": [
    "a = popt[0]\n",
    "v0 = popt[1]\n",
    "s0 = popt[2]\n",
    "print('a  :',a, '   m/s^2')\n",
    "print('v_0:',v0, ' m/s')\n",
    "print('s_0:',s0, '  m/s')"
   ]
  },
  {
   "cell_type": "markdown",
   "metadata": {},
   "source": [
    "and the uncertainties are contained in the covariance matrix ``pcov``:"
   ]
  },
  {
   "cell_type": "code",
   "execution_count": 46,
   "metadata": {},
   "outputs": [
    {
     "name": "stdout",
     "output_type": "stream",
     "text": [
      "delta a  :  0.000550282271671\n",
      "delta v_0:  0.000605174998246\n",
      "delta s_0:  0.000287471854358\n"
     ]
    }
   ],
   "source": [
    "delta_a =  np.sqrt(pcov[0,0])\n",
    "delta_v0 = np.sqrt(pcov[1,1])\n",
    "delta_s0 = np.sqrt(pcov[2,2])\n",
    "print('delta a  : ', delta_a)\n",
    "print('delta v_0: ', delta_v0)\n",
    "print('delta s_0: ', delta_s0)"
   ]
  },
  {
   "cell_type": "markdown",
   "metadata": {},
   "source": [
    "Let's see how the best fit performs by fitting the  best fit line on top of the data"
   ]
  },
  {
   "cell_type": "code",
   "execution_count": 47,
   "metadata": {},
   "outputs": [
    {
     "data": {
      "image/png": "[encoded data removed]",
      "text/plain": [
       "<Figure size 432x288 with 1 Axes>"
      ]
     },
     "metadata": {},
     "output_type": "display_data"
    }
   ],
   "source": [
    "# Visualize the prediction\n",
    "plt.plot(t, y, linestyle = '', marker = 'v', label='data')\n",
    "plt.plot(t,position(t, *popt), linestyle = '-', label='fit')\n",
    "plt.xlabel('Time [s]')\n",
    "plt.ylabel('Position [m]')\n",
    "plt.legend()\n",
    "plt.show()"
   ]
  },
  {
   "cell_type": "markdown",
   "metadata": {},
   "source": [
    "# Exercise 1.\n",
    "\n",
    "## 1.1 Calculate Acceleration from Velocity\n",
    "\n",
    "Try to find the acceleration by fitting another linear model to velocity and time.\n",
    "\n",
    "$v(t) = a t + v_0$ \n",
    "\n",
    "- Start by defining a function called ``velocity`` (look at how the function ``position`` is done)\n",
    "\n",
    "- The use the ``curve_fit`` function from **scipy** to fit the data and plot the parameters of the fit. Remember that the bounds in the function are the bounds for each parameter. \n",
    "\n",
    "- How do the results for the acceleration compare?"
   ]
  },
  {
   "cell_type": "code",
   "execution_count": null,
   "metadata": {},
   "outputs": [],
   "source": []
  },
  {
   "cell_type": "code",
   "execution_count": null,
   "metadata": {},
   "outputs": [],
   "source": []
  },
  {
   "cell_type": "code",
   "execution_count": null,
   "metadata": {},
   "outputs": [],
   "source": []
  },
  {
   "cell_type": "markdown",
   "metadata": {},
   "source": [
    "# Exercise 2.\n",
    "\n",
    "## 2.1. Importing the data\n",
    "Here import your data for the cart with the mass using the **pandas** function ``read_csv``."
   ]
  },
  {
   "cell_type": "code",
   "execution_count": null,
   "metadata": {},
   "outputs": [],
   "source": []
  },
  {
   "cell_type": "code",
   "execution_count": null,
   "metadata": {},
   "outputs": [],
   "source": []
  },
  {
   "cell_type": "code",
   "execution_count": null,
   "metadata": {},
   "outputs": [],
   "source": []
  },
  {
   "cell_type": "markdown",
   "metadata": {},
   "source": [
    "## 2.2. Cleaning the data\n",
    "Remove the data-points that you don't use. Use the same procedure as above\n"
   ]
  },
  {
   "cell_type": "code",
   "execution_count": null,
   "metadata": {},
   "outputs": [],
   "source": []
  },
  {
   "cell_type": "code",
   "execution_count": null,
   "metadata": {},
   "outputs": [],
   "source": []
  },
  {
   "cell_type": "code",
   "execution_count": null,
   "metadata": {},
   "outputs": [],
   "source": []
  },
  {
   "cell_type": "markdown",
   "metadata": {},
   "source": [
    "## 2.3. Find the Acceleration of the Cart.\n",
    "\n",
    "Use one or more models to find the acceleration of the cart"
   ]
  },
  {
   "cell_type": "code",
   "execution_count": null,
   "metadata": {},
   "outputs": [],
   "source": []
  },
  {
   "cell_type": "code",
   "execution_count": null,
   "metadata": {},
   "outputs": [],
   "source": []
  },
  {
   "cell_type": "code",
   "execution_count": null,
   "metadata": {},
   "outputs": [],
   "source": []
  },
  {
   "cell_type": "markdown",
   "metadata": {},
   "source": [
    "## 2.4. Uncertainties.\n",
    "\n",
    "There are two rules that you are going to use for your data analysis:\n",
    "\n",
    "1. For $Y = A \\pm B$, \n",
    "$$\n",
    "\\Delta Y = \\Delta A + \\Delta B\n",
    "$$\n",
    "\n",
    "2. for $Y =  A B$ or $Y = A/B$, \n",
    "$$\n",
    "\\frac{\\Delta Y}{Y} = \\frac{\\Delta A}{A} + \\frac{\\Delta B}{B}.\n",
    "$$\n",
    "\n",
    "Use the rules above to compute the uncertainty in the acceleration."
   ]
  },
  {
   "cell_type": "code",
   "execution_count": null,
   "metadata": {},
   "outputs": [],
   "source": []
  },
  {
   "cell_type": "code",
   "execution_count": null,
   "metadata": {},
   "outputs": [],
   "source": []
  },
  {
   "cell_type": "code",
   "execution_count": null,
   "metadata": {},
   "outputs": [],
   "source": []
  },
  {
   "cell_type": "markdown",
   "metadata": {},
   "source": [
    "## Exercise 3. \n",
    "\n",
    "Do the gravitational mass of the cart (measured with a scale) and the inertial mass (the measure you just did) have the same values?\n",
    "\n",
    "If not, can you think what you did not take into accont  in your model. Tip: try to think about the friction on the cart."
   ]
  },
  {
   "cell_type": "code",
   "execution_count": null,
   "metadata": {},
   "outputs": [],
   "source": []
  }
 ],
 "metadata": {
  "kernelspec": {
   "display_name": "Python 3",
   "language": "python",
   "name": "python3"
  },
  "language_info": {
   "codemirror_mode": {
    "name": "ipython",
    "version": 3
   },
   "file_extension": ".py",
   "mimetype": "text/x-python",
   "name": "python",
   "nbconvert_exporter": "python",
   "pygments_lexer": "ipython3",
   "version": "3.6.2"
  }
 },
 "nbformat": 4,
 "nbformat_minor": 2
}
