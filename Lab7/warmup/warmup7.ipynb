{
 "cells": [
  {
   "cell_type": "markdown",
   "metadata": {},
   "source": [
    "# Warmup 7\n",
    "\n",
    "In this warmup I'm going to drive you through the basic usage of python to solve data analytics. \n",
    "\n",
    "Download this notebook on your computer, then log in on http://sfu.syzygy.ca/ \n",
    "\n",
    "Once you logged in, modify the url according to the following\n",
    "\n",
    "https://sfu.syzygy.ca/jupyter/user/your_name/lab\n",
    "\n",
    "Congratulations! You are now running Jupyter Lab on the SFU computers!"
   ]
  },
  {
   "cell_type": "code",
   "execution_count": 1,
   "metadata": {},
   "outputs": [],
   "source": [
    "# import the libraries\n",
    "import numpy as np\n",
    "import pandas as pd\n",
    "import matplotlib.pyplot as plt\n",
    "import pylab as pil"
   ]
  },
  {
   "cell_type": "code",
   "execution_count": 2,
   "metadata": {},
   "outputs": [],
   "source": [
    "data = pd.read_csv('warmup_data.csv')"
   ]
  },
  {
   "cell_type": "code",
   "execution_count": 3,
   "metadata": {},
   "outputs": [
    {
     "data": {
      "text/html": [
       "<div>\n",
       "<style>\n",
       "    .dataframe thead tr:only-child th {\n",
       "        text-align: right;\n",
       "    }\n",
       "\n",
       "    .dataframe thead th {\n",
       "        text-align: left;\n",
       "    }\n",
       "\n",
       "    .dataframe tbody tr th {\n",
       "        vertical-align: top;\n",
       "    }\n",
       "</style>\n",
       "<table border=\"1\" class=\"dataframe\">\n",
       "  <thead>\n",
       "    <tr style=\"text-align: right;\">\n",
       "      <th></th>\n",
       "      <th>groupA</th>\n",
       "      <th>groupB</th>\n",
       "      <th>groupC</th>\n",
       "      <th>groupD</th>\n",
       "      <th>Unnamed: 4</th>\n",
       "    </tr>\n",
       "  </thead>\n",
       "  <tbody>\n",
       "    <tr>\n",
       "      <th>0</th>\n",
       "      <td>9.346</td>\n",
       "      <td>9.451</td>\n",
       "      <td>10.227</td>\n",
       "      <td>10.220</td>\n",
       "      <td>NaN</td>\n",
       "    </tr>\n",
       "    <tr>\n",
       "      <th>1</th>\n",
       "      <td>9.043</td>\n",
       "      <td>9.736</td>\n",
       "      <td>10.088</td>\n",
       "      <td>9.356</td>\n",
       "      <td>NaN</td>\n",
       "    </tr>\n",
       "    <tr>\n",
       "      <th>2</th>\n",
       "      <td>9.537</td>\n",
       "      <td>9.841</td>\n",
       "      <td>10.020</td>\n",
       "      <td>9.850</td>\n",
       "      <td>NaN</td>\n",
       "    </tr>\n",
       "    <tr>\n",
       "      <th>3</th>\n",
       "      <td>9.377</td>\n",
       "      <td>9.987</td>\n",
       "      <td>10.932</td>\n",
       "      <td>9.528</td>\n",
       "      <td>NaN</td>\n",
       "    </tr>\n",
       "    <tr>\n",
       "      <th>4</th>\n",
       "      <td>9.334</td>\n",
       "      <td>9.732</td>\n",
       "      <td>10.714</td>\n",
       "      <td>9.952</td>\n",
       "      <td>NaN</td>\n",
       "    </tr>\n",
       "  </tbody>\n",
       "</table>\n",
       "</div>"
      ],
      "text/plain": [
       "   groupA  groupB  groupC  groupD  Unnamed: 4\n",
       "0   9.346   9.451  10.227  10.220         NaN\n",
       "1   9.043   9.736  10.088   9.356         NaN\n",
       "2   9.537   9.841  10.020   9.850         NaN\n",
       "3   9.377   9.987  10.932   9.528         NaN\n",
       "4   9.334   9.732  10.714   9.952         NaN"
      ]
     },
     "execution_count": 3,
     "metadata": {},
     "output_type": "execute_result"
    }
   ],
   "source": [
    "# visualize the data\n",
    "data.head()"
   ]
  },
  {
   "cell_type": "markdown",
   "metadata": {},
   "source": [
    "We can delete the column with ```NaN``` data (NaN means Not A Number). We use the method ```dropna``` with the argument ```axis=1``` which means eliminate the column (```axis=1``` ) with at least one ```NaN```. If you want to  delete rows then, set ```axis=0```. In principle it should not change anything, so I encourage you to give it a try."
   ]
  },
  {
   "cell_type": "code",
   "execution_count": 4,
   "metadata": {},
   "outputs": [],
   "source": [
    "data = data.dropna(axis=1) "
   ]
  },
  {
   "cell_type": "code",
   "execution_count": 5,
   "metadata": {},
   "outputs": [
    {
     "data": {
      "text/html": [
       "<div>\n",
       "<style>\n",
       "    .dataframe thead tr:only-child th {\n",
       "        text-align: right;\n",
       "    }\n",
       "\n",
       "    .dataframe thead th {\n",
       "        text-align: left;\n",
       "    }\n",
       "\n",
       "    .dataframe tbody tr th {\n",
       "        vertical-align: top;\n",
       "    }\n",
       "</style>\n",
       "<table border=\"1\" class=\"dataframe\">\n",
       "  <thead>\n",
       "    <tr style=\"text-align: right;\">\n",
       "      <th></th>\n",
       "      <th>groupA</th>\n",
       "      <th>groupB</th>\n",
       "      <th>groupC</th>\n",
       "      <th>groupD</th>\n",
       "    </tr>\n",
       "  </thead>\n",
       "  <tbody>\n",
       "    <tr>\n",
       "      <th>0</th>\n",
       "      <td>9.346</td>\n",
       "      <td>9.451</td>\n",
       "      <td>10.227</td>\n",
       "      <td>10.220</td>\n",
       "    </tr>\n",
       "    <tr>\n",
       "      <th>1</th>\n",
       "      <td>9.043</td>\n",
       "      <td>9.736</td>\n",
       "      <td>10.088</td>\n",
       "      <td>9.356</td>\n",
       "    </tr>\n",
       "    <tr>\n",
       "      <th>2</th>\n",
       "      <td>9.537</td>\n",
       "      <td>9.841</td>\n",
       "      <td>10.020</td>\n",
       "      <td>9.850</td>\n",
       "    </tr>\n",
       "    <tr>\n",
       "      <th>3</th>\n",
       "      <td>9.377</td>\n",
       "      <td>9.987</td>\n",
       "      <td>10.932</td>\n",
       "      <td>9.528</td>\n",
       "    </tr>\n",
       "    <tr>\n",
       "      <th>4</th>\n",
       "      <td>9.334</td>\n",
       "      <td>9.732</td>\n",
       "      <td>10.714</td>\n",
       "      <td>9.952</td>\n",
       "    </tr>\n",
       "  </tbody>\n",
       "</table>\n",
       "</div>"
      ],
      "text/plain": [
       "   groupA  groupB  groupC  groupD\n",
       "0   9.346   9.451  10.227  10.220\n",
       "1   9.043   9.736  10.088   9.356\n",
       "2   9.537   9.841  10.020   9.850\n",
       "3   9.377   9.987  10.932   9.528\n",
       "4   9.334   9.732  10.714   9.952"
      ]
     },
     "execution_count": 5,
     "metadata": {},
     "output_type": "execute_result"
    }
   ],
   "source": [
    "data.head()"
   ]
  },
  {
   "cell_type": "code",
   "execution_count": 6,
   "metadata": {},
   "outputs": [
    {
     "data": {
      "text/html": [
       "<div>\n",
       "<style>\n",
       "    .dataframe thead tr:only-child th {\n",
       "        text-align: right;\n",
       "    }\n",
       "\n",
       "    .dataframe thead th {\n",
       "        text-align: left;\n",
       "    }\n",
       "\n",
       "    .dataframe tbody tr th {\n",
       "        vertical-align: top;\n",
       "    }\n",
       "</style>\n",
       "<table border=\"1\" class=\"dataframe\">\n",
       "  <thead>\n",
       "    <tr style=\"text-align: right;\">\n",
       "      <th></th>\n",
       "      <th>groupA</th>\n",
       "      <th>groupB</th>\n",
       "      <th>groupC</th>\n",
       "      <th>groupD</th>\n",
       "    </tr>\n",
       "  </thead>\n",
       "  <tbody>\n",
       "    <tr>\n",
       "      <th>0</th>\n",
       "      <td>9.346</td>\n",
       "      <td>9.451</td>\n",
       "      <td>10.227</td>\n",
       "      <td>10.220</td>\n",
       "    </tr>\n",
       "    <tr>\n",
       "      <th>1</th>\n",
       "      <td>9.043</td>\n",
       "      <td>9.736</td>\n",
       "      <td>10.088</td>\n",
       "      <td>9.356</td>\n",
       "    </tr>\n",
       "    <tr>\n",
       "      <th>2</th>\n",
       "      <td>9.537</td>\n",
       "      <td>9.841</td>\n",
       "      <td>10.020</td>\n",
       "      <td>9.850</td>\n",
       "    </tr>\n",
       "    <tr>\n",
       "      <th>3</th>\n",
       "      <td>9.377</td>\n",
       "      <td>9.987</td>\n",
       "      <td>10.932</td>\n",
       "      <td>9.528</td>\n",
       "    </tr>\n",
       "    <tr>\n",
       "      <th>4</th>\n",
       "      <td>9.334</td>\n",
       "      <td>9.732</td>\n",
       "      <td>10.714</td>\n",
       "      <td>9.952</td>\n",
       "    </tr>\n",
       "  </tbody>\n",
       "</table>\n",
       "</div>"
      ],
      "text/plain": [
       "   groupA  groupB  groupC  groupD\n",
       "0   9.346   9.451  10.227  10.220\n",
       "1   9.043   9.736  10.088   9.356\n",
       "2   9.537   9.841  10.020   9.850\n",
       "3   9.377   9.987  10.932   9.528\n",
       "4   9.334   9.732  10.714   9.952"
      ]
     },
     "execution_count": 6,
     "metadata": {},
     "output_type": "execute_result"
    }
   ],
   "source": [
    "data = data.dropna(axis=0)\n",
    "data.head()"
   ]
  },
  {
   "cell_type": "markdown",
   "metadata": {},
   "source": [
    "## B. Making a Histogram of your data\n",
    "Let's plot the histogram! Pandas is pretty quick to produce this. To do so just type\n",
    "```\n",
    "data.hist()\n",
    "```\n",
    "\n",
    "You can add other arguments inside, just have a look at https://pandas.pydata.org/pandas-docs/stable/reference/api/pandas.DataFrame.hist.html\n",
    "\n",
    "HINT: Understand the use of ```bins```! Also, try to change size of the figure and also the ```layout```, and have a look at ```sharex```!"
   ]
  },
  {
   "cell_type": "code",
   "execution_count": 14,
   "metadata": {},
   "outputs": [
    {
     "data": {
      "image/png": "[encoded data removed]",
      "text/plain": [
       "<Figure size 720x360 with 4 Axes>"
      ]
     },
     "metadata": {},
     "output_type": "display_data"
    }
   ],
   "source": [
    "# this one makes the figure bigger\n",
    "data.hist(figsize=(10,5))\n",
    "# this is for saving the image:\n",
    "pil.savefig('my_histogram.pdf', bbox_inches='tight')\n",
    "plt.show()"
   ]
  },
  {
   "cell_type": "markdown",
   "metadata": {},
   "source": [
    "## D. Statistics from the data\n",
    "\n",
    "This question can be solved with a single command from Pandas! Now the only, thing you need to do is computing the standard deviation of the mean. Also you can find useful information about the function ```describe``` at https://pandas.pydata.org/pandas-docs/stable/reference/api/pandas.DataFrame.describe.html"
   ]
  },
  {
   "cell_type": "code",
   "execution_count": 8,
   "metadata": {},
   "outputs": [
    {
     "data": {
      "text/html": [
       "<div>\n",
       "<style>\n",
       "    .dataframe thead tr:only-child th {\n",
       "        text-align: right;\n",
       "    }\n",
       "\n",
       "    .dataframe thead th {\n",
       "        text-align: left;\n",
       "    }\n",
       "\n",
       "    .dataframe tbody tr th {\n",
       "        vertical-align: top;\n",
       "    }\n",
       "</style>\n",
       "<table border=\"1\" class=\"dataframe\">\n",
       "  <thead>\n",
       "    <tr style=\"text-align: right;\">\n",
       "      <th></th>\n",
       "      <th>groupA</th>\n",
       "      <th>groupB</th>\n",
       "      <th>groupC</th>\n",
       "      <th>groupD</th>\n",
       "    </tr>\n",
       "  </thead>\n",
       "  <tbody>\n",
       "    <tr>\n",
       "      <th>count</th>\n",
       "      <td>20.000000</td>\n",
       "      <td>20.000000</td>\n",
       "      <td>20.000000</td>\n",
       "      <td>20.000000</td>\n",
       "    </tr>\n",
       "    <tr>\n",
       "      <th>mean</th>\n",
       "      <td>9.285000</td>\n",
       "      <td>9.811350</td>\n",
       "      <td>10.265450</td>\n",
       "      <td>9.760500</td>\n",
       "    </tr>\n",
       "    <tr>\n",
       "      <th>std</th>\n",
       "      <td>0.197231</td>\n",
       "      <td>0.226782</td>\n",
       "      <td>0.284871</td>\n",
       "      <td>0.543939</td>\n",
       "    </tr>\n",
       "    <tr>\n",
       "      <th>min</th>\n",
       "      <td>9.006000</td>\n",
       "      <td>9.349000</td>\n",
       "      <td>9.718000</td>\n",
       "      <td>8.731000</td>\n",
       "    </tr>\n",
       "    <tr>\n",
       "      <th>25%</th>\n",
       "      <td>9.155750</td>\n",
       "      <td>9.672250</td>\n",
       "      <td>10.068000</td>\n",
       "      <td>9.374000</td>\n",
       "    </tr>\n",
       "    <tr>\n",
       "      <th>50%</th>\n",
       "      <td>9.255500</td>\n",
       "      <td>9.827000</td>\n",
       "      <td>10.261500</td>\n",
       "      <td>9.776500</td>\n",
       "    </tr>\n",
       "    <tr>\n",
       "      <th>75%</th>\n",
       "      <td>9.368000</td>\n",
       "      <td>9.947250</td>\n",
       "      <td>10.401750</td>\n",
       "      <td>10.182500</td>\n",
       "    </tr>\n",
       "    <tr>\n",
       "      <th>max</th>\n",
       "      <td>9.721000</td>\n",
       "      <td>10.265000</td>\n",
       "      <td>10.932000</td>\n",
       "      <td>10.656000</td>\n",
       "    </tr>\n",
       "  </tbody>\n",
       "</table>\n",
       "</div>"
      ],
      "text/plain": [
       "          groupA     groupB     groupC     groupD\n",
       "count  20.000000  20.000000  20.000000  20.000000\n",
       "mean    9.285000   9.811350  10.265450   9.760500\n",
       "std     0.197231   0.226782   0.284871   0.543939\n",
       "min     9.006000   9.349000   9.718000   8.731000\n",
       "25%     9.155750   9.672250  10.068000   9.374000\n",
       "50%     9.255500   9.827000  10.261500   9.776500\n",
       "75%     9.368000   9.947250  10.401750  10.182500\n",
       "max     9.721000  10.265000  10.932000  10.656000"
      ]
     },
     "execution_count": 8,
     "metadata": {},
     "output_type": "execute_result"
    }
   ],
   "source": [
    "data.describe()"
   ]
  }
 ],
 "metadata": {
  "kernelspec": {
   "display_name": "Python 3",
   "language": "python",
   "name": "python3"
  },
  "language_info": {
   "codemirror_mode": {
    "name": "ipython",
    "version": 3
   },
   "file_extension": ".py",
   "mimetype": "text/x-python",
   "name": "python",
   "nbconvert_exporter": "python",
   "pygments_lexer": "ipython3",
   "version": "3.6.8"
  }
 },
 "nbformat": 4,
 "nbformat_minor": 2
}
