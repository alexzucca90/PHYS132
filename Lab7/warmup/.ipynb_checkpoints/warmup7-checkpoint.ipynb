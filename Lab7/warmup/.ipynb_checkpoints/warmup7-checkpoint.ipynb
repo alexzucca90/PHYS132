{
 "cells": [
  {
   "cell_type": "markdown",
   "metadata": {},
   "source": [
    "# Warmup 7\n",
    "\n",
    "In this warmup I'm going to drive you through the basic usage of python to solve data analytics. \n",
    "\n",
    "Download this notebook on your computer, then log in on http://sfu.syzygy.ca/ \n",
    "\n",
    "Once you logged in, modify the url according to the following\n",
    "\n",
    "https://sfu.syzygy.ca/jupyter/user/your_name/lab\n",
    "\n",
    "Congratulations! You are now running Jupyter Lab on the SFU computers!"
   ]
  },
  {
   "cell_type": "code",
   "execution_count": null,
   "metadata": {},
   "outputs": [],
   "source": [
    "# import the libraries\n",
    "import numpy as np\n",
    "import pandas as pd\n",
    "import matplotlib.pyplot as plt\n",
    "import pylab as pil"
   ]
  },
  {
   "cell_type": "code",
   "execution_count": null,
   "metadata": {},
   "outputs": [],
   "source": [
    "data = pd.read_csv('warmup_data.csv')"
   ]
  },
  {
   "cell_type": "code",
   "execution_count": null,
   "metadata": {},
   "outputs": [],
   "source": [
    "# visualize the data\n",
    "data.head()"
   ]
  },
  {
   "cell_type": "markdown",
   "metadata": {},
   "source": [
    "We can delete the column with ```NaN``` data (NaN means Not A Number). We use the method ```dropna``` with the argument ```axis=1``` which means eliminate the column (```axis=1``` ) with at least one ```NaN```. If you want to  delete rows then, set ```axis=0```. In principle it should not change anything, so I encourage you to give it a try."
   ]
  },
  {
   "cell_type": "code",
   "execution_count": null,
   "metadata": {},
   "outputs": [],
   "source": [
    "data = data.dropna(axis=1) "
   ]
  },
  {
   "cell_type": "code",
   "execution_count": null,
   "metadata": {},
   "outputs": [],
   "source": [
    "data.head()"
   ]
  },
  {
   "cell_type": "code",
   "execution_count": null,
   "metadata": {},
   "outputs": [],
   "source": [
    "data = data.dropna(axis=0)\n",
    "data.head()"
   ]
  },
  {
   "cell_type": "markdown",
   "metadata": {},
   "source": [
    "## B. Making a Histogram of your data\n",
    "Let's plot the histogram! Pandas is pretty quick to produce this. To do so just type\n",
    "```\n",
    "data.hist()\n",
    "```\n",
    "\n",
    "You can add other arguments inside, just have a look at https://pandas.pydata.org/pandas-docs/stable/reference/api/pandas.DataFrame.hist.html\n",
    "\n",
    "HINT: Understand the use of ```bins```! Also, try to change size of the figure and also the ```layout```, and have a look at ```sharex```!"
   ]
  },
  {
   "cell_type": "code",
   "execution_count": null,
   "metadata": {},
   "outputs": [],
   "source": [
    "# this one makes the figure bigger\n",
    "data.hist(figsize=(10,5))\n",
    "# this is for saving the image:\n",
    "pil.savefig('my_histogram.pdf', bbox_inches='tight')\n",
    "plt.show()"
   ]
  },
  {
   "cell_type": "markdown",
   "metadata": {},
   "source": [
    "## D. Statistics from the data\n",
    "\n",
    "This question can be solved with a single command from Pandas! Now the only, thing you need to do is computing the standard deviation of the mean. Also you can find useful information about the function ```describe``` at https://pandas.pydata.org/pandas-docs/stable/reference/api/pandas.DataFrame.describe.html"
   ]
  },
  {
   "cell_type": "code",
   "execution_count": null,
   "metadata": {},
   "outputs": [],
   "source": [
    "data.describe()"
   ]
  }
 ],
 "metadata": {
  "kernelspec": {
   "display_name": "Python 3",
   "language": "python",
   "name": "python3"
  },
  "language_info": {
   "codemirror_mode": {
    "name": "ipython",
    "version": 3
   },
   "file_extension": ".py",
   "mimetype": "text/x-python",
   "name": "python",
   "nbconvert_exporter": "python",
   "pygments_lexer": "ipython3",
   "version": "3.6.8"
  }
 },
 "nbformat": 4,
 "nbformat_minor": 2
}
