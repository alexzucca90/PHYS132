{
 "cells": [
  {
   "cell_type": "markdown",
   "metadata": {},
   "source": [
    "# Lab 7: Pendulum\n",
    "\n",
    "## Instructions\n",
    "Download this notebook on your computer, then log in on http://sfu.syzygy.ca/ \n",
    "\n",
    "Once you logged in, modify the url according to the following\n",
    "\n",
    "https://sfu.syzygy.ca/jupyter/user/your_name/lab\n",
    "\n",
    "\n",
    "## Goal: Determine whether the period of a pendulum depends on the amplitude of the swing\n",
    "\n",
    "For a poendulum of length $\\ell$ the period of oscillations $T$, provided the oscillations are small, is\n",
    "$$\n",
    "T = 2\\pi \\sqrt{\\frac{\\ell}{g}},\n",
    "$$\n",
    "where $g\\simeq 9.81$ $m/s^2$ is the gravitational acceleration.\n",
    "\n",
    "$T$ does not depend on the angle of oscillation, and the goal of the experiment is to test this hypothesis."
   ]
  },
  {
   "cell_type": "code",
   "execution_count": 1,
   "metadata": {},
   "outputs": [],
   "source": [
    "# import usual libraries\n",
    "import numpy as np\n",
    "import pandas as pd\n",
    "import matplotlib.pyplot as plt\n",
    "import pylab as pil"
   ]
  },
  {
   "cell_type": "markdown",
   "metadata": {},
   "source": [
    "## (i) Estimate & Explore:\n",
    "set up a pendulum, measure the period, explore how to make a good measurement."
   ]
  },
  {
   "cell_type": "markdown",
   "metadata": {},
   "source": [
    "## (ii) Measure\n",
    "As a first step, measure the period of oscillation of the pendulum for displacements of the pendulum from equilibrium by 10 degrees and 20 degrees. Aim to achieve a precision of 0.1% in the period in order to look for a small effect. Plot your period data for each angle as a histogram.\n",
    "\n",
    "Assuming that you properly set up the pendulum and have a robust strategy for measuring the period of its oscillations, let's start recording the data.\n",
    "\n",
    "Start for example from measuring the oscillations from an initial amplitude of 10 degrees and record the data in the list ```rec_10deg```. You don't have to do any calculation, just record the measurements. For example, if you take the measurement of 5 periods, record the overall time, then you can divide the time by 5 later!"
   ]
  },
  {
   "cell_type": "markdown",
   "metadata": {},
   "source": [
    "###  10 degrees recordings:\n",
    "\n",
    "Make sure to get enough measurements!"
   ]
  },
  {
   "cell_type": "code",
   "execution_count": 12,
   "metadata": {},
   "outputs": [],
   "source": [
    "# add the recordings here. See the example.\n",
    "rec_10deg = [10, 10.1, 10.05,10.2, 9.3, 9.5, 9.8, 9.9, 10.2, 10.4]"
   ]
  },
  {
   "cell_type": "markdown",
   "metadata": {},
   "source": [
    "then we can create a table from the recordings. Tables in pandas are called ```Data Frames``` and are initialized in the following way. We give a name to each column for example ```meas_10deg``` and then we can visualize the data fram with the ```head``` method"
   ]
  },
  {
   "cell_type": "code",
   "execution_count": 13,
   "metadata": {},
   "outputs": [
    {
     "data": {
      "text/html": [
       "<div>\n",
       "<style>\n",
       "    .dataframe thead tr:only-child th {\n",
       "        text-align: right;\n",
       "    }\n",
       "\n",
       "    .dataframe thead th {\n",
       "        text-align: left;\n",
       "    }\n",
       "\n",
       "    .dataframe tbody tr th {\n",
       "        vertical-align: top;\n",
       "    }\n",
       "</style>\n",
       "<table border=\"1\" class=\"dataframe\">\n",
       "  <thead>\n",
       "    <tr style=\"text-align: right;\">\n",
       "      <th></th>\n",
       "      <th>rec_10deg</th>\n",
       "    </tr>\n",
       "  </thead>\n",
       "  <tbody>\n",
       "    <tr>\n",
       "      <th>0</th>\n",
       "      <td>10.00</td>\n",
       "    </tr>\n",
       "    <tr>\n",
       "      <th>1</th>\n",
       "      <td>10.10</td>\n",
       "    </tr>\n",
       "    <tr>\n",
       "      <th>2</th>\n",
       "      <td>10.05</td>\n",
       "    </tr>\n",
       "    <tr>\n",
       "      <th>3</th>\n",
       "      <td>10.20</td>\n",
       "    </tr>\n",
       "    <tr>\n",
       "      <th>4</th>\n",
       "      <td>9.30</td>\n",
       "    </tr>\n",
       "    <tr>\n",
       "      <th>5</th>\n",
       "      <td>9.50</td>\n",
       "    </tr>\n",
       "    <tr>\n",
       "      <th>6</th>\n",
       "      <td>9.80</td>\n",
       "    </tr>\n",
       "    <tr>\n",
       "      <th>7</th>\n",
       "      <td>9.90</td>\n",
       "    </tr>\n",
       "    <tr>\n",
       "      <th>8</th>\n",
       "      <td>10.20</td>\n",
       "    </tr>\n",
       "    <tr>\n",
       "      <th>9</th>\n",
       "      <td>10.40</td>\n",
       "    </tr>\n",
       "  </tbody>\n",
       "</table>\n",
       "</div>"
      ],
      "text/plain": [
       "   rec_10deg\n",
       "0      10.00\n",
       "1      10.10\n",
       "2      10.05\n",
       "3      10.20\n",
       "4       9.30\n",
       "5       9.50\n",
       "6       9.80\n",
       "7       9.90\n",
       "8      10.20\n",
       "9      10.40"
      ]
     },
     "execution_count": 13,
     "metadata": {},
     "output_type": "execute_result"
    }
   ],
   "source": [
    "data = pd.DataFrame(columns=['rec_10deg'], data=pd.Series(rec_10deg))\n",
    "data.head(10) # the 15 here means visualize the first 15 rows"
   ]
  },
  {
   "cell_type": "markdown",
   "metadata": {},
   "source": [
    "We can then do any operation on the data. For example, I want to divide the time measurements by 5 in order to get the period $T$ from the 10 degrees measurements."
   ]
  },
  {
   "cell_type": "code",
   "execution_count": 8,
   "metadata": {},
   "outputs": [],
   "source": [
    "data['T_10deg']=data['meas_10deg']/5"
   ]
  },
  {
   "cell_type": "code",
   "execution_count": null,
   "metadata": {},
   "outputs": [],
   "source": [
    "# visualize the data and check that everything works fine. \n"
   ]
  },
  {
   "cell_type": "markdown",
   "metadata": {},
   "source": [
    "Now using the ```describe```  method (you used in the warmup) check which accuracy you obtained! If, it's not sufficients, just add more measurements in the recording list above and re-run the Python cells to check how the accuracy is improving"
   ]
  },
  {
   "cell_type": "code",
   "execution_count": null,
   "metadata": {},
   "outputs": [],
   "source": []
  },
  {
   "cell_type": "markdown",
   "metadata": {},
   "source": [
    "### 20 degrees recordings:\n",
    "\n",
    "Now let's take the measurements starting from an initial amplitude of 20 degrees.\n",
    "Record the measurements as we did before"
   ]
  },
  {
   "cell_type": "code",
   "execution_count": null,
   "metadata": {},
   "outputs": [],
   "source": []
  },
  {
   "cell_type": "markdown",
   "metadata": {},
   "source": [
    "To add the recorded data into the dataframe, just use the following sample command\n",
    "```\n",
    "data.loc[:,'rec_20deg']=pd.Series(rec_20deg)\n",
    "```\n",
    "where ```rec_20deg``` is the list containing the measurements.\n",
    "\n",
    "Then do the calculations that you need on the data as before!"
   ]
  },
  {
   "cell_type": "code",
   "execution_count": null,
   "metadata": {},
   "outputs": [],
   "source": []
  },
  {
   "cell_type": "markdown",
   "metadata": {},
   "source": [
    "### Histogram\n",
    "\n",
    "In the warmup activity you used the ```hist()``` method to make the histogram. Do the same here!\n",
    "Plot it, save it, download it and print it!"
   ]
  },
  {
   "cell_type": "code",
   "execution_count": null,
   "metadata": {},
   "outputs": [],
   "source": []
  },
  {
   "cell_type": "markdown",
   "metadata": {},
   "source": [
    "## (iii) Analyze and Discuss Refinements: \n",
    "Improve your measurements until you can distinguish results for 10 degrees and 20 degrees."
   ]
  },
  {
   "cell_type": "markdown",
   "metadata": {},
   "source": [
    "## (iv) Remeasure:\n",
    "Re-measure: Perform additional measurements of the pendulum period at angles from 5 to 30 degrees. Spend 5 minutes discussing what measurements to take in a limited data acquisition time of 25 minutes. Compare different angles by creating a graph of the period (y-axis) versus angle (x-axis). Indicate uncertainties on your graph with error bars."
   ]
  },
  {
   "cell_type": "code",
   "execution_count": null,
   "metadata": {},
   "outputs": [],
   "source": [
    "rec_5deg = []"
   ]
  },
  {
   "cell_type": "code",
   "execution_count": null,
   "metadata": {},
   "outputs": [],
   "source": [
    "# add the data to the dataframe\n"
   ]
  },
  {
   "cell_type": "code",
   "execution_count": null,
   "metadata": {},
   "outputs": [],
   "source": [
    "rec_15deg = []"
   ]
  },
  {
   "cell_type": "code",
   "execution_count": null,
   "metadata": {},
   "outputs": [],
   "source": [
    "# add the data to the dataframe \n"
   ]
  },
  {
   "cell_type": "code",
   "execution_count": 14,
   "metadata": {},
   "outputs": [],
   "source": [
    "rec_25deg = []"
   ]
  },
  {
   "cell_type": "code",
   "execution_count": 15,
   "metadata": {},
   "outputs": [],
   "source": [
    "# add the data to the dataframe \n"
   ]
  },
  {
   "cell_type": "code",
   "execution_count": 16,
   "metadata": {},
   "outputs": [],
   "source": [
    "rec_30deg = []"
   ]
  },
  {
   "cell_type": "code",
   "execution_count": 17,
   "metadata": {},
   "outputs": [],
   "source": [
    "# add the data to the dataframe\n"
   ]
  },
  {
   "cell_type": "markdown",
   "metadata": {},
   "source": [
    "### Period VS amplitude plot"
   ]
  },
  {
   "cell_type": "code",
   "execution_count": 18,
   "metadata": {},
   "outputs": [],
   "source": [
    "ampl = [5,10,15,20,25,30]\n",
    "dampl = [1,1,1,1,1,1]"
   ]
  },
  {
   "cell_type": "markdown",
   "metadata": {},
   "source": [
    "Now use this as a sample to compute the average and standard deviation for each sample"
   ]
  },
  {
   "cell_type": "code",
   "execution_count": 25,
   "metadata": {},
   "outputs": [],
   "source": [
    "T_10deg = np.mean(rec_10deg)\n",
    "dT_10deg = np.std(rec_10deg)/np.sqrt(len(rec_10deg))"
   ]
  },
  {
   "cell_type": "code",
   "execution_count": null,
   "metadata": {},
   "outputs": [],
   "source": [
    "# 5 degrees"
   ]
  },
  {
   "cell_type": "code",
   "execution_count": null,
   "metadata": {},
   "outputs": [],
   "source": [
    "# 15 degrees"
   ]
  },
  {
   "cell_type": "code",
   "execution_count": null,
   "metadata": {},
   "outputs": [],
   "source": [
    "# 20 degrees"
   ]
  },
  {
   "cell_type": "code",
   "execution_count": null,
   "metadata": {},
   "outputs": [],
   "source": [
    "# 25 degrees"
   ]
  },
  {
   "cell_type": "code",
   "execution_count": null,
   "metadata": {},
   "outputs": [],
   "source": [
    "# 30 degrees"
   ]
  },
  {
   "cell_type": "markdown",
   "metadata": {},
   "source": [
    "create two lists with the $T$ and $\\Delta T$. Remember that they have to be ordered!"
   ]
  },
  {
   "cell_type": "code",
   "execution_count": null,
   "metadata": {},
   "outputs": [],
   "source": [
    "T_meas = []\n",
    "dT_meas = []"
   ]
  },
  {
   "cell_type": "code",
   "execution_count": 38,
   "metadata": {},
   "outputs": [
    {
     "data": {
      "image/png": "[encoded data removed]",
      "text/plain": [
       "<Figure size 720x360 with 1 Axes>"
      ]
     },
     "metadata": {},
     "output_type": "display_data"
    }
   ],
   "source": [
    "plt.figure(figsize=(10,5))\n",
    "plt.errorbar(ampl,T_meas, yerr=dT_meas, xerr = dampl, linestyle = '', marker = 'o',\n",
    "             barsabove = True, capsize =3, ms = 5, capthick = 0.65, linewidth = 1 )\n",
    "plt.xlabel('Amplitude [deg]')\n",
    "plt.ylabel('')\n",
    "plt.show()"
   ]
  },
  {
   "cell_type": "code",
   "execution_count": null,
   "metadata": {},
   "outputs": [],
   "source": []
  }
 ],
 "metadata": {
  "kernelspec": {
   "display_name": "Python 3",
   "language": "python",
   "name": "python3"
  },
  "language_info": {
   "codemirror_mode": {
    "name": "ipython",
    "version": 3
   },
   "file_extension": ".py",
   "mimetype": "text/x-python",
   "name": "python",
   "nbconvert_exporter": "python",
   "pygments_lexer": "ipython3",
   "version": "3.6.8"
  }
 },
 "nbformat": 4,
 "nbformat_minor": 2
}
